{
  "nbformat": 4,
  "nbformat_minor": 0,
  "metadata": {
    "colab": {
      "private_outputs": true,
      "provenance": [],
      "authorship_tag": "ABX9TyM3jPL3sAlsv3wCu70i3Hpy",
      "include_colab_link": true
    },
    "kernelspec": {
      "name": "python3",
      "display_name": "Python 3"
    },
    "language_info": {
      "name": "python"
    }
  },
  "cells": [
    {
      "cell_type": "markdown",
      "metadata": {
        "id": "view-in-github",
        "colab_type": "text"
      },
      "source": [
        "<a href=\"https://colab.research.google.com/github/mostofa89/Pandas/blob/main/pandas.ipynb\" target=\"_parent\"><img src=\"https://colab.research.google.com/assets/colab-badge.svg\" alt=\"Open In Colab\"/></a>"
      ]
    },
    {
      "cell_type": "code",
      "execution_count": null,
      "metadata": {
        "id": "V7Bgom_yO-r4"
      },
      "outputs": [],
      "source": [
        "import pandas"
      ]
    },
    {
      "cell_type": "code",
      "source": [
        "print(pandas.__version__)"
      ],
      "metadata": {
        "id": "FmqbMH5XQPUe"
      },
      "execution_count": null,
      "outputs": []
    },
    {
      "cell_type": "code",
      "source": [
        "datasets = {\n",
        "  \"cars\" : [\"Alpha Romio\", \"BMW\", \"Ford\", \"Honda\", \"Toyota\", \"Volvo\"],\n",
        "  \"passing\" : [1, 3, 5, 7, 9, 11]\n",
        "}\n",
        "\n",
        "\n",
        "myvar = pandas.DataFrame(datasets)\n",
        "print(myvar)"
      ],
      "metadata": {
        "id": "Jv2RzqiIPFQd"
      },
      "execution_count": null,
      "outputs": []
    },
    {
      "cell_type": "markdown",
      "source": [
        "#Series"
      ],
      "metadata": {
        "id": "9yr4QONPQdNd"
      }
    },
    {
      "cell_type": "code",
      "source": [
        "import pandas as pd\n",
        "\n",
        "nums = [1, 3, 5, 7, 9]\n",
        "\n",
        "num_tab = pd.Series(nums)\n",
        "print(num_tab)"
      ],
      "metadata": {
        "id": "epCpYFshQezy"
      },
      "execution_count": null,
      "outputs": []
    },
    {
      "cell_type": "code",
      "source": [
        "import pandas as pd\n",
        "\n",
        "nums = [1, 3, 5, 7, 9]\n",
        "\n",
        "num_tab = pd.Series(nums, index = ['a', 'b', 'c', 'd', 'e'])\n",
        "print(num_tab)"
      ],
      "metadata": {
        "id": "YH2rv3ZJavZF"
      },
      "execution_count": null,
      "outputs": []
    },
    {
      "cell_type": "code",
      "source": [
        "import pandas as pd\n",
        "\n",
        "nums = [1, 3, 5, 7, 9]\n",
        "\n",
        "num_tab = pd.Series(nums, index = ['a', 'b', 'c', 'd', 'e'])\n",
        "print(num_tab['e'])"
      ],
      "metadata": {
        "id": "agHwrSwaa8S-"
      },
      "execution_count": null,
      "outputs": []
    },
    {
      "cell_type": "code",
      "source": [
        "import pandas as pd\n",
        "\n",
        "nums = [1.34, 3.14, 5.5, 7.3, 9.9]\n",
        "\n",
        "num_tab = pd.Series(nums)\n",
        "print(num_tab)"
      ],
      "metadata": {
        "id": "0HpnlSB0RL9R"
      },
      "execution_count": null,
      "outputs": []
    },
    {
      "cell_type": "code",
      "source": [
        "import pandas as pd\n",
        "\n",
        "nums = [1.34, 3.14, 5.5, 7.3, 9.9]\n",
        "\n",
        "num_tab = pd.Series(nums)\n",
        "print(num_tab[4])"
      ],
      "metadata": {
        "id": "PWNQXEOqSClL"
      },
      "execution_count": null,
      "outputs": []
    },
    {
      "cell_type": "code",
      "source": [
        "import pandas as pd\n",
        "\n",
        "cars = [\"Alpha Romio\", \"BMW\", \"Ford\", \"Honda\", \"Toyota\", \"Volvo\"]\n",
        "\n",
        "cars_tab = pd.Series(cars)\n",
        "print(cars_tab)"
      ],
      "metadata": {
        "id": "r8O81yR8Q1my"
      },
      "execution_count": null,
      "outputs": []
    },
    {
      "cell_type": "code",
      "source": [
        "#indexing\n",
        "import pandas as pd\n",
        "\n",
        "cars = [\"Alpha Romio\", \"BMW\", \"Ford\", \"Honda\", \"Toyota\", \"Volvo\"]\n",
        "\n",
        "cars_tab = pd.Series(cars)\n",
        "print(cars_tab[0])"
      ],
      "metadata": {
        "id": "TMnDnAr5R4od"
      },
      "execution_count": null,
      "outputs": []
    },
    {
      "cell_type": "code",
      "source": [
        "import pandas as pd\n",
        "\n",
        "datasets = {\n",
        "  \"cars\" : [\"Alpha Romio\", \"BMW\", \"Ford\", \"Honda\", \"Toyota\", \"Volvo\"],\n",
        "  \"passing\" : [1, 3, 5, 7, 9, 11]\n",
        "}\n",
        "\n",
        "data_tab = pd.Series(datasets)\n",
        "print(data_tab)"
      ],
      "metadata": {
        "id": "l91bX8bBRYtu"
      },
      "execution_count": null,
      "outputs": []
    },
    {
      "cell_type": "code",
      "source": [
        "import pandas as pd\n",
        "\n",
        "calories = {\"day1\": 420, \"day2\": 380, \"day3\": 390}\n",
        "\n",
        "cal_tab = pd.Series(calories, index = [\"day1\", \"day2\"])\n",
        "print(cal_tab['day1'])"
      ],
      "metadata": {
        "id": "ljxSTQR8R3Vl"
      },
      "execution_count": null,
      "outputs": []
    },
    {
      "cell_type": "markdown",
      "source": [
        "#Data Frames"
      ],
      "metadata": {
        "id": "GDl8hW86bzef"
      }
    },
    {
      "cell_type": "code",
      "source": [
        "import pandas as pd\n",
        "\n",
        "datasets = {\n",
        "  \"cars\" : [\"Alpha Romio\", \"BMW\", \"Ford\", \"Honda\", \"Toyota\", \"Volvo\"],\n",
        "  \"passing\" : [1, 3, 5, 7, 9, 11]\n",
        "}\n",
        "\n",
        "data_tab = pd.DataFrame(datasets)\n",
        "print(data_tab)"
      ],
      "metadata": {
        "id": "lNZXWTGgb1sg"
      },
      "execution_count": null,
      "outputs": []
    },
    {
      "cell_type": "code",
      "source": [
        "import pandas as pd\n",
        "\n",
        "datasets = {\n",
        "  \"cars\" : [\"Alpha Romio\", \"BMW\", \"Ford\", \"Honda\", \"Toyota\", \"Volvo\"],\n",
        "  \"passing\" : [1, 3, 5, 7, 9, 11]\n",
        "}\n",
        "\n",
        "data_frame = pd.DataFrame(datasets, index=[1, 2, 3, 4, 5, 6])\n",
        "print(data_tab)"
      ],
      "metadata": {
        "id": "1b4aVOvab-zU"
      },
      "execution_count": null,
      "outputs": []
    },
    {
      "cell_type": "code",
      "source": [
        "import pandas as pd\n",
        "\n",
        "datasets = {\n",
        "  \"cars\" : [\"Alpha Romio\", \"BMW\", \"Ford\", \"Honda\", \"Toyota\", \"Volvo\"],\n",
        "  \"passing\" : [1, 3, 5, 7, 9, 11]\n",
        "}\n",
        "\n",
        "data_frame = pd.DataFrame(datasets)\n",
        "print(data_frame.loc[0])"
      ],
      "metadata": {
        "id": "b9Qi9FQfcZMN"
      },
      "execution_count": null,
      "outputs": []
    },
    {
      "cell_type": "code",
      "source": [
        "import pandas as pd\n",
        "\n",
        "datasets = {\n",
        "  \"cars\" : [\"Alpha Romio\", \"BMW\", \"Ford\", \"Honda\", \"Toyota\", \"Volvo\"],\n",
        "  \"passing\" : [1, 3, 5, 7, 9, 11]\n",
        "}\n",
        "\n",
        "data_frame = pd.DataFrame(datasets)\n",
        "print(data_frame.loc[[0, 1]]) # index1, index2\n",
        "print(data_frame.loc[[1, 4]])"
      ],
      "metadata": {
        "id": "gxk-f6INdDnv"
      },
      "execution_count": null,
      "outputs": []
    },
    {
      "cell_type": "code",
      "source": [
        "import pandas as pd\n",
        "\n",
        "data = {\n",
        "  \"calories\": [420, 380, 390],\n",
        "  \"duration\": [50, 40, 45]\n",
        "}\n",
        "\n",
        "df = pd.DataFrame(data, index = [\"day1\", \"day2\", \"day3\"])\n",
        "\n",
        "print(df)"
      ],
      "metadata": {
        "id": "BFawB9SPdff5"
      },
      "execution_count": null,
      "outputs": []
    },
    {
      "cell_type": "code",
      "source": [
        "data = {\n",
        "  \"calories\": [420, 380, 390],\n",
        "  \"duration\": [50, 40, 45]\n",
        "}\n",
        "\n",
        "df = pd.DataFrame(data, index = [\"day1\", \"day2\", \"day3\"])\n",
        "\n",
        "print(df.loc['day1'])"
      ],
      "metadata": {
        "id": "6OYYmUstdl7i"
      },
      "execution_count": null,
      "outputs": []
    },
    {
      "cell_type": "code",
      "source": [
        "data = {\n",
        "  \"calories\": [420, 380, 390],\n",
        "  \"duration\": [50, 40, 45]\n",
        "}\n",
        "\n",
        "df = pd.DataFrame(data, index = [\"day1\", \"day2\", \"day3\"])\n",
        "\n",
        "print(df.loc[['day1', 'day3']])"
      ],
      "metadata": {
        "id": "lLS23Jr7dqAW"
      },
      "execution_count": null,
      "outputs": []
    },
    {
      "cell_type": "markdown",
      "source": [
        "#CSV File"
      ],
      "metadata": {
        "id": "kAZOB0pdFzo8"
      }
    },
    {
      "cell_type": "code",
      "source": [
        "import pandas as pd\n",
        "\n",
        "\n",
        "titanic = pd.read_csv(\"titanic.csv\")\n",
        "print(titanic)\n"
      ],
      "metadata": {
        "id": "NZk7SuX1F2Ml"
      },
      "execution_count": null,
      "outputs": []
    },
    {
      "cell_type": "code",
      "source": [
        "import pandas as pd\n",
        "\n",
        "\n",
        "titanic = pd.read_csv(\"titanic.csv\")\n",
        "print(titanic.to_string())"
      ],
      "metadata": {
        "id": "AY8wuniDF8tU"
      },
      "execution_count": null,
      "outputs": []
    },
    {
      "cell_type": "code",
      "source": [
        "import pandas as pd\n",
        "\n",
        "\n",
        "titanic = pd.read_csv(\"titanic.csv\")\n",
        "print(pd.options.display.max_rows)\n",
        "print(pd.options.display.max_columns)"
      ],
      "metadata": {
        "id": "YVPZ2AazS3R_"
      },
      "execution_count": null,
      "outputs": []
    },
    {
      "cell_type": "code",
      "source": [
        "import pandas as pd\n",
        "\n",
        "pd.options.display.max_rows = 9999\n",
        "titanic = pd.read_csv(\"titanic.csv\")\n",
        "\n",
        "print(titanic)"
      ],
      "metadata": {
        "id": "QlZtfZp2TTQt"
      },
      "execution_count": null,
      "outputs": []
    },
    {
      "cell_type": "markdown",
      "source": [
        "# Read JSON File"
      ],
      "metadata": {
        "id": "JLUE3plFUk4r"
      }
    },
    {
      "cell_type": "code",
      "source": [
        "import pandas as pd\n",
        "\n",
        "data1 = pd.read_json('data.json', orient = 'index')\n",
        "\n",
        "print(data1)\n"
      ],
      "metadata": {
        "id": "TkJHOQ10TsgG"
      },
      "execution_count": null,
      "outputs": []
    },
    {
      "cell_type": "code",
      "source": [
        "import pandas as pd\n",
        "\n",
        "data = pd.read_json('/content/sample_data/anscombe.json')\n",
        "print(data.to_string())"
      ],
      "metadata": {
        "id": "77NwheDUcW_p"
      },
      "execution_count": null,
      "outputs": []
    },
    {
      "cell_type": "markdown",
      "source": [
        "#Analyzing Files"
      ],
      "metadata": {
        "id": "-n5MrLiIdtfy"
      }
    },
    {
      "cell_type": "code",
      "source": [
        "import pandas as pd\n",
        "\n",
        "df = pd.read_csv('/content/CSV_Files/access.csv')\n",
        "\n",
        "print(df.head(10))"
      ],
      "metadata": {
        "id": "mI5LaMLIds8v"
      },
      "execution_count": null,
      "outputs": []
    },
    {
      "cell_type": "code",
      "source": [
        "import pandas as pd\n",
        "\n",
        "titanic = pd.read_csv('/content/CSV_Files/titanic.csv')\n",
        "\n",
        "print(titanic.head(10))"
      ],
      "metadata": {
        "id": "lWRhIBxheQAT"
      },
      "execution_count": null,
      "outputs": []
    },
    {
      "cell_type": "code",
      "source": [
        "import pandas as pd\n",
        "\n",
        "titanic = pd.read_csv('/content/CSV_Files/titanic.csv')\n",
        "\n",
        "print(titanic.head())"
      ],
      "metadata": {
        "id": "wIVswoN8ebGo"
      },
      "execution_count": null,
      "outputs": []
    },
    {
      "cell_type": "code",
      "source": [
        "import pandas as pd\n",
        "\n",
        "titanic = pd.read_csv('/content/CSV_Files/titanic.csv')\n",
        "\n",
        "print(titanic.tail())"
      ],
      "metadata": {
        "id": "Yr5m-3O0enAG"
      },
      "execution_count": null,
      "outputs": []
    },
    {
      "cell_type": "code",
      "source": [
        "import pandas as pd\n",
        "\n",
        "titanic = pd.read_csv('/content/CSV_Files/titanic.csv')\n",
        "\n",
        "print(titanic.info())"
      ],
      "metadata": {
        "id": "aM45n8a8e0-F"
      },
      "execution_count": null,
      "outputs": []
    },
    {
      "cell_type": "code",
      "source": [
        "import pandas as pd\n",
        "\n",
        "anscombe = pd.read_json('/content/sample_data/anscombe.json')\n",
        "\n",
        "print(anscombe.head())"
      ],
      "metadata": {
        "id": "9aFfvdtzfr4p"
      },
      "execution_count": null,
      "outputs": []
    },
    {
      "cell_type": "code",
      "source": [
        "import pandas as pd\n",
        "\n",
        "anscombe = pd.read_json('/content/sample_data/anscombe.json')\n",
        "\n",
        "print(anscombe.head(10))"
      ],
      "metadata": {
        "id": "_k3ZswL_f_sU"
      },
      "execution_count": null,
      "outputs": []
    },
    {
      "cell_type": "code",
      "source": [
        "import pandas as pd\n",
        "\n",
        "anscombe = pd.read_json('/content/sample_data/anscombe.json')\n",
        "\n",
        "print(anscombe.tail(10))"
      ],
      "metadata": {
        "id": "GIps0iXLgCV4"
      },
      "execution_count": null,
      "outputs": []
    },
    {
      "cell_type": "code",
      "source": [
        "import pandas as pd\n",
        "\n",
        "anscombe = pd.read_json('/content/sample_data/anscombe.json')\n",
        "\n",
        "print(anscombe.tail())"
      ],
      "metadata": {
        "id": "Ci0ak9CWgE7y"
      },
      "execution_count": null,
      "outputs": []
    },
    {
      "cell_type": "markdown",
      "source": [
        "#Ploting"
      ],
      "metadata": {
        "id": "RhQRrel3fPPG"
      }
    },
    {
      "cell_type": "code",
      "source": [
        "import pandas as pd\n",
        "import matplotlib.pyplot as plt\n",
        "\n",
        "titanic = pd.read_csv('/content/CSV_Files/titanic.csv')\n",
        "\n",
        "titanic.plot()\n",
        "plt.show()"
      ],
      "metadata": {
        "id": "qqcMrmiOfREm"
      },
      "execution_count": null,
      "outputs": []
    },
    {
      "cell_type": "code",
      "source": [
        "import pandas as pd\n",
        "import matplotlib.pyplot as plt\n",
        "\n",
        "titanic = pd.read_csv('/content/CSV_Files/titanic.csv')\n",
        "print(titanic.columns)\n",
        "titanic.plot(kind = 'scatter', x = 'Pclass', y = 'PassengerId')\n",
        "plt.show()"
      ],
      "metadata": {
        "id": "cZcY85ypgXsp"
      },
      "execution_count": null,
      "outputs": []
    },
    {
      "cell_type": "code",
      "source": [
        "import pandas as pd\n",
        "import matplotlib.pyplot as plt\n",
        "import sys\n",
        "\n",
        "titanic = pd.read_csv('/content/CSV_Files/titanic.csv')\n",
        "print(titanic.columns)\n",
        "titanic['Survived'].plot(kind = 'hist')\n",
        "plt.show()\n"
      ],
      "metadata": {
        "id": "YiI1s45Sh3mZ"
      },
      "execution_count": null,
      "outputs": []
    }
  ]
}