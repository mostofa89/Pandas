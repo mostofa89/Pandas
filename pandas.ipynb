{
  "nbformat": 4,
  "nbformat_minor": 0,
  "metadata": {
    "colab": {
      "private_outputs": true,
      "provenance": [],
      "mount_file_id": "https://github.com/mostofa89/Pandas/blob/main/pandas.ipynb",
      "authorship_tag": "ABX9TyOSJrZq0RPyTNny1YF9kria",
      "include_colab_link": true
    },
    "kernelspec": {
      "name": "python3",
      "display_name": "Python 3"
    },
    "language_info": {
      "name": "python"
    }
  },
  "cells": [
    {
      "cell_type": "markdown",
      "metadata": {
        "id": "view-in-github",
        "colab_type": "text"
      },
      "source": [
        "<a href=\"https://colab.research.google.com/github/mostofa89/Pandas/blob/main/pandas.ipynb\" target=\"_parent\"><img src=\"https://colab.research.google.com/assets/colab-badge.svg\" alt=\"Open In Colab\"/></a>"
      ]
    },
    {
      "cell_type": "code",
      "execution_count": null,
      "metadata": {
        "id": "V7Bgom_yO-r4"
      },
      "outputs": [],
      "source": [
        "import pandas"
      ]
    },
    {
      "cell_type": "code",
      "source": [
        "print(pandas.__version__)"
      ],
      "metadata": {
        "id": "FmqbMH5XQPUe"
      },
      "execution_count": null,
      "outputs": []
    },
    {
      "cell_type": "code",
      "source": [
        "datasets = {\n",
        "  \"cars\" : [\"Alpha Romio\", \"BMW\", \"Ford\", \"Honda\", \"Toyota\", \"Volvo\"],\n",
        "  \"passing\" : [1, 3, 5, 7, 9, 11]\n",
        "}\n",
        "\n",
        "\n",
        "myvar = pandas.DataFrame(datasets)\n",
        "print(myvar)"
      ],
      "metadata": {
        "id": "Jv2RzqiIPFQd"
      },
      "execution_count": null,
      "outputs": []
    },
    {
      "cell_type": "markdown",
      "source": [
        "#Series"
      ],
      "metadata": {
        "id": "9yr4QONPQdNd"
      }
    },
    {
      "cell_type": "code",
      "source": [
        "import pandas as pd\n",
        "\n",
        "nums = [1, 3, 5, 7, 9]\n",
        "\n",
        "num_tab = pd.Series(nums)\n",
        "print(num_tab)"
      ],
      "metadata": {
        "id": "epCpYFshQezy"
      },
      "execution_count": null,
      "outputs": []
    },
    {
      "cell_type": "code",
      "source": [
        "import pandas as pd\n",
        "\n",
        "nums = [1, 3, 5, 7, 9]\n",
        "\n",
        "num_tab = pd.Series(nums, index = ['a', 'b', 'c', 'd', 'e'])\n",
        "print(num_tab)"
      ],
      "metadata": {
        "id": "YH2rv3ZJavZF"
      },
      "execution_count": null,
      "outputs": []
    },
    {
      "cell_type": "code",
      "source": [
        "import pandas as pd\n",
        "\n",
        "nums = [1, 3, 5, 7, 9]\n",
        "\n",
        "num_tab = pd.Series(nums, index = ['a', 'b', 'c', 'd', 'e'])\n",
        "print(num_tab['e'])"
      ],
      "metadata": {
        "id": "agHwrSwaa8S-"
      },
      "execution_count": null,
      "outputs": []
    },
    {
      "cell_type": "code",
      "source": [
        "import pandas as pd\n",
        "\n",
        "nums = [1.34, 3.14, 5.5, 7.3, 9.9]\n",
        "\n",
        "num_tab = pd.Series(nums)\n",
        "print(num_tab)"
      ],
      "metadata": {
        "id": "0HpnlSB0RL9R"
      },
      "execution_count": null,
      "outputs": []
    },
    {
      "cell_type": "code",
      "source": [
        "import pandas as pd\n",
        "\n",
        "nums = [1.34, 3.14, 5.5, 7.3, 9.9]\n",
        "\n",
        "num_tab = pd.Series(nums)\n",
        "print(num_tab[4])"
      ],
      "metadata": {
        "id": "PWNQXEOqSClL"
      },
      "execution_count": null,
      "outputs": []
    },
    {
      "cell_type": "code",
      "source": [
        "import pandas as pd\n",
        "\n",
        "cars = [\"Alpha Romio\", \"BMW\", \"Ford\", \"Honda\", \"Toyota\", \"Volvo\"]\n",
        "\n",
        "cars_tab = pd.Series(cars)\n",
        "print(cars_tab)"
      ],
      "metadata": {
        "id": "r8O81yR8Q1my"
      },
      "execution_count": null,
      "outputs": []
    },
    {
      "cell_type": "code",
      "source": [
        "#indexing\n",
        "import pandas as pd\n",
        "\n",
        "cars = [\"Alpha Romio\", \"BMW\", \"Ford\", \"Honda\", \"Toyota\", \"Volvo\"]\n",
        "\n",
        "cars_tab = pd.Series(cars)\n",
        "print(cars_tab[0])"
      ],
      "metadata": {
        "id": "TMnDnAr5R4od"
      },
      "execution_count": null,
      "outputs": []
    },
    {
      "cell_type": "code",
      "source": [
        "import pandas as pd\n",
        "\n",
        "datasets = {\n",
        "  \"cars\" : [\"Alpha Romio\", \"BMW\", \"Ford\", \"Honda\", \"Toyota\", \"Volvo\"],\n",
        "  \"passing\" : [1, 3, 5, 7, 9, 11]\n",
        "}\n",
        "\n",
        "data_tab = pd.Series(datasets)\n",
        "print(data_tab)"
      ],
      "metadata": {
        "id": "l91bX8bBRYtu"
      },
      "execution_count": null,
      "outputs": []
    },
    {
      "cell_type": "code",
      "source": [
        "import pandas as pd\n",
        "\n",
        "calories = {\"day1\": 420, \"day2\": 380, \"day3\": 390}\n",
        "\n",
        "cal_tab = pd.Series(calories, index = [\"day1\", \"day2\"])\n",
        "print(cal_tab['day1'])"
      ],
      "metadata": {
        "id": "ljxSTQR8R3Vl"
      },
      "execution_count": null,
      "outputs": []
    },
    {
      "cell_type": "markdown",
      "source": [
        "#Data Frames"
      ],
      "metadata": {
        "id": "GDl8hW86bzef"
      }
    },
    {
      "cell_type": "code",
      "source": [
        "import pandas as pd\n",
        "\n",
        "datasets = {\n",
        "  \"cars\" : [\"Alpha Romio\", \"BMW\", \"Ford\", \"Honda\", \"Toyota\", \"Volvo\"],\n",
        "  \"passing\" : [1, 3, 5, 7, 9, 11]\n",
        "}\n",
        "\n",
        "data_tab = pd.DataFrame(datasets)\n",
        "print(data_tab)"
      ],
      "metadata": {
        "id": "lNZXWTGgb1sg"
      },
      "execution_count": null,
      "outputs": []
    },
    {
      "cell_type": "code",
      "source": [
        "import pandas as pd\n",
        "\n",
        "datasets = {\n",
        "  \"cars\" : [\"Alpha Romio\", \"BMW\", \"Ford\", \"Honda\", \"Toyota\", \"Volvo\"],\n",
        "  \"passing\" : [1, 3, 5, 7, 9, 11]\n",
        "}\n",
        "\n",
        "data_frame = pd.DataFrame(datasets, index=[1, 2, 3, 4, 5, 6])\n",
        "print(data_tab)"
      ],
      "metadata": {
        "id": "1b4aVOvab-zU"
      },
      "execution_count": null,
      "outputs": []
    },
    {
      "cell_type": "code",
      "source": [
        "import pandas as pd\n",
        "\n",
        "datasets = {\n",
        "  \"cars\" : [\"Alpha Romio\", \"BMW\", \"Ford\", \"Honda\", \"Toyota\", \"Volvo\"],\n",
        "  \"passing\" : [1, 3, 5, 7, 9, 11]\n",
        "}\n",
        "\n",
        "data_frame = pd.DataFrame(datasets)\n",
        "print(data_frame.loc[0])"
      ],
      "metadata": {
        "id": "b9Qi9FQfcZMN"
      },
      "execution_count": null,
      "outputs": []
    },
    {
      "cell_type": "code",
      "source": [
        "import pandas as pd\n",
        "\n",
        "datasets = {\n",
        "  \"cars\" : [\"Alpha Romio\", \"BMW\", \"Ford\", \"Honda\", \"Toyota\", \"Volvo\"],\n",
        "  \"passing\" : [1, 3, 5, 7, 9, 11]\n",
        "}\n",
        "\n",
        "data_frame = pd.DataFrame(datasets)\n",
        "print(data_frame.loc[[0, 1]]) # index1, index2\n",
        "print(data_frame.loc[[1, 4]])"
      ],
      "metadata": {
        "id": "gxk-f6INdDnv"
      },
      "execution_count": null,
      "outputs": []
    },
    {
      "cell_type": "code",
      "source": [
        "import pandas as pd\n",
        "\n",
        "data = {\n",
        "  \"calories\": [420, 380, 390],\n",
        "  \"duration\": [50, 40, 45]\n",
        "}\n",
        "\n",
        "df = pd.DataFrame(data, index = [\"day1\", \"day2\", \"day3\"])\n",
        "\n",
        "print(df)"
      ],
      "metadata": {
        "id": "BFawB9SPdff5"
      },
      "execution_count": null,
      "outputs": []
    },
    {
      "cell_type": "code",
      "source": [
        "data = {\n",
        "  \"calories\": [420, 380, 390],\n",
        "  \"duration\": [50, 40, 45]\n",
        "}\n",
        "\n",
        "df = pd.DataFrame(data, index = [\"day1\", \"day2\", \"day3\"])\n",
        "\n",
        "print(df.loc['day1'])"
      ],
      "metadata": {
        "id": "6OYYmUstdl7i"
      },
      "execution_count": null,
      "outputs": []
    },
    {
      "cell_type": "code",
      "source": [
        "data = {\n",
        "  \"calories\": [420, 380, 390],\n",
        "  \"duration\": [50, 40, 45]\n",
        "}\n",
        "\n",
        "df = pd.DataFrame(data)\n",
        "\n",
        "print(df)"
      ],
      "metadata": {
        "id": "EtNd9lgPhEE4"
      },
      "execution_count": null,
      "outputs": []
    },
    {
      "cell_type": "code",
      "source": [
        "df = pd.DataFrame([[1, 2, 3], [4, 5, 6], [7, 8, 9]], columns = ['x', 'y', 'z'])\n",
        "\n",
        "print(df)"
      ],
      "metadata": {
        "id": "AW9OplebhdTL"
      },
      "execution_count": null,
      "outputs": []
    },
    {
      "cell_type": "code",
      "source": [
        "print(df.index.tolist())"
      ],
      "metadata": {
        "id": "eYOFbZElig3C"
      },
      "execution_count": null,
      "outputs": []
    },
    {
      "cell_type": "code",
      "source": [
        "df = pd.DataFrame([[1, 2, 3], [4, 5, 6], [7, 8, 9]], columns = ['x', 'y', 'z'], index = [\"a\", \"b\", \"c\"])\n",
        "\n",
        "print(df)"
      ],
      "metadata": {
        "id": "jZqVArMhirWx"
      },
      "execution_count": null,
      "outputs": []
    },
    {
      "cell_type": "code",
      "source": [
        "df.info()"
      ],
      "metadata": {
        "id": "7TOVyXbJjHcW"
      },
      "execution_count": null,
      "outputs": []
    },
    {
      "cell_type": "code",
      "source": [
        "print(df.describe())"
      ],
      "metadata": {
        "id": "yJ0I_t2xjefo"
      },
      "execution_count": null,
      "outputs": []
    },
    {
      "cell_type": "code",
      "source": [
        "print(df.nunique())"
      ],
      "metadata": {
        "id": "M-pxsTUijrIp"
      },
      "execution_count": null,
      "outputs": []
    },
    {
      "cell_type": "code",
      "source": [
        "print(df.shape)"
      ],
      "metadata": {
        "id": "gAuEJEA0j14c"
      },
      "execution_count": null,
      "outputs": []
    },
    {
      "cell_type": "code",
      "source": [
        "df = pd.DataFrame([[1, 2, 3], [4, 5, 6], [7, 8, 9]], columns = ['x', 'y', 'z'], index = [\"a\", \"b\", \"c\"])\n",
        "\n",
        "print(df.size)"
      ],
      "metadata": {
        "id": "UPgMK3S6kR7Y"
      },
      "execution_count": null,
      "outputs": []
    },
    {
      "cell_type": "code",
      "source": [
        "data = {\n",
        "  \"calories\": [420, 380, 390],\n",
        "  \"duration\": [50, 40, 45]\n",
        "}\n",
        "\n",
        "df = pd.DataFrame(data, index = [\"day1\", \"day2\", \"day3\"])\n",
        "\n",
        "print(df.loc[['day1', 'day3']])"
      ],
      "metadata": {
        "id": "lLS23Jr7dqAW"
      },
      "execution_count": null,
      "outputs": []
    },
    {
      "cell_type": "code",
      "source": [
        "data = {\n",
        "  \"calories\": [420, 380, 390],\n",
        "  \"duration\": [50, 40, 45]\n",
        "}\n",
        "\n",
        "df = pd.DataFrame(data, index = [\"day1\", \"day2\", \"day3\"])\n",
        "\n",
        "print(df.shape)\n",
        "print(df.size)"
      ],
      "metadata": {
        "id": "5bwc1-wej8vz"
      },
      "execution_count": null,
      "outputs": []
    },
    {
      "cell_type": "code",
      "source": [],
      "metadata": {
        "id": "nnslr53WkLxm"
      },
      "execution_count": null,
      "outputs": []
    },
    {
      "cell_type": "markdown",
      "source": [
        "#Reading CSV File"
      ],
      "metadata": {
        "id": "kAZOB0pdFzo8"
      }
    },
    {
      "cell_type": "code",
      "source": [
        "import pandas as pd\n",
        "\n",
        "\n",
        "titanic = pd.read_csv(\"/content/drive/MyDrive/Pandas/CSV/titanic.csv\")\n",
        "print(titanic.head())\n"
      ],
      "metadata": {
        "id": "NZk7SuX1F2Ml"
      },
      "execution_count": null,
      "outputs": []
    },
    {
      "cell_type": "code",
      "source": [
        "import pandas as pd\n",
        "\n",
        "\n",
        "titanic = pd.read_csv(\"/content/drive/MyDrive/Pandas/CSV/titanic.csv\")\n",
        "print(titanic.to_string())"
      ],
      "metadata": {
        "id": "AY8wuniDF8tU"
      },
      "execution_count": null,
      "outputs": []
    },
    {
      "cell_type": "code",
      "source": [
        "import pandas as pd\n",
        "\n",
        "\n",
        "titanic = pd.read_csv(\"/content/drive/MyDrive/Pandas/CSV/titanic.csv\")\n",
        "print(pd.options.display.max_rows)\n",
        "print(pd.options.display.max_columns)"
      ],
      "metadata": {
        "id": "YVPZ2AazS3R_"
      },
      "execution_count": null,
      "outputs": []
    },
    {
      "cell_type": "code",
      "source": [
        "import pandas as pd\n",
        "\n",
        "pd.options.display.max_rows = 9999\n",
        "titanic = pd.read_csv(\"/content/drive/MyDrive/Pandas/CSV/titanic.csv\")\n",
        "\n",
        "print(titanic)"
      ],
      "metadata": {
        "id": "QlZtfZp2TTQt"
      },
      "execution_count": null,
      "outputs": []
    },
    {
      "cell_type": "code",
      "source": [
        "import pandas as pd\n",
        "\n",
        "titanic = pd.read_csv(\"/content/drive/MyDrive/Pandas/CSV/titanic.csv\")\n",
        "\n",
        "print(titanic.to_excel)"
      ],
      "metadata": {
        "id": "qRpIEJY1ld0h"
      },
      "execution_count": null,
      "outputs": []
    },
    {
      "cell_type": "markdown",
      "source": [
        "# Read JSON File"
      ],
      "metadata": {
        "id": "JLUE3plFUk4r"
      }
    },
    {
      "cell_type": "code",
      "source": [
        "import pandas as pd\n",
        "\n",
        "data1 = pd.read_json('/content/drive/MyDrive/Pandas/Json/sample.json', orient = \"index\")\n",
        "\n",
        "print(data1)\n"
      ],
      "metadata": {
        "id": "TkJHOQ10TsgG"
      },
      "execution_count": null,
      "outputs": []
    },
    {
      "cell_type": "code",
      "source": [
        "import pandas as pd\n",
        "\n",
        "data1 = pd.read_json('/content/drive/MyDrive/Pandas/Json/sample.json', orient = \"columns\")\n",
        "\n",
        "print(data1)"
      ],
      "metadata": {
        "id": "aZUFt06y0u7l"
      },
      "execution_count": null,
      "outputs": []
    },
    {
      "cell_type": "code",
      "source": [
        "import pandas as pd\n",
        "\n",
        "data1 = pd.read_json('/content/drive/MyDrive/Pandas/Json/sample.json', orient = \"columns\")\n",
        "\n",
        "print(data1.to_excel)"
      ],
      "metadata": {
        "id": "CUZVVylOl4ax"
      },
      "execution_count": null,
      "outputs": []
    },
    {
      "cell_type": "code",
      "source": [
        "import pandas as pd\n",
        "\n",
        "data1 = pd.read_json('/content/drive/MyDrive/Pandas/Json/sample.json', orient = \"columns\")\n",
        "\n",
        "print(data1.to_csv)"
      ],
      "metadata": {
        "id": "O5o-7pU5mAaY"
      },
      "execution_count": null,
      "outputs": []
    },
    {
      "cell_type": "code",
      "source": [
        "import pandas as pd\n",
        "\n",
        "data = pd.read_json('/content/drive/MyDrive/Pandas/Json/data.json')\n",
        "print(data.to_string())"
      ],
      "metadata": {
        "id": "cUX7bTrI0zRM"
      },
      "execution_count": null,
      "outputs": []
    },
    {
      "cell_type": "code",
      "source": [
        "import pandas as pd\n",
        "\n",
        "data = pd.read_json('/content/sample_data/anscombe.json')\n",
        "print(data.to_string())"
      ],
      "metadata": {
        "id": "77NwheDUcW_p"
      },
      "execution_count": null,
      "outputs": []
    },
    {
      "cell_type": "markdown",
      "source": [
        "#Accessing Files"
      ],
      "metadata": {
        "id": "-n5MrLiIdtfy"
      }
    },
    {
      "cell_type": "code",
      "source": [
        "import pandas as pd\n",
        "\n",
        "df = pd.read_csv('/content/drive/MyDrive/Pandas/CSV/industry.csv')\n",
        "\n",
        "print(df.head(10))"
      ],
      "metadata": {
        "id": "mI5LaMLIds8v"
      },
      "execution_count": null,
      "outputs": []
    },
    {
      "cell_type": "markdown",
      "source": [
        "###Slicing Data"
      ],
      "metadata": {
        "id": "T4QcG375ncrh"
      }
    },
    {
      "cell_type": "code",
      "source": [
        "import pandas as pd\n",
        "\n",
        "df = pd.read_csv('/content/drive/MyDrive/Pandas/CSV/industry.csv')\n",
        "\n",
        "\n",
        "print(df[0: 15])"
      ],
      "metadata": {
        "id": "HcA7yuQNmOgq"
      },
      "execution_count": null,
      "outputs": []
    },
    {
      "cell_type": "code",
      "source": [
        "import pandas as pd\n",
        "\n",
        "df = pd.read_csv('/content/drive/MyDrive/Pandas/CSV/industry.csv')\n",
        "\n",
        "\n",
        "print(df[5: 15])"
      ],
      "metadata": {
        "id": "iXdfrL5Gmbby"
      },
      "execution_count": null,
      "outputs": []
    },
    {
      "cell_type": "code",
      "source": [
        "import pandas as pd\n",
        "\n",
        "titanic = pd.read_csv('/content/drive/MyDrive/Pandas/CSV/titanic.csv')\n",
        "\n",
        "print(titanic[10 : 20])"
      ],
      "metadata": {
        "id": "lWRhIBxheQAT"
      },
      "execution_count": null,
      "outputs": []
    },
    {
      "cell_type": "code",
      "source": [
        "import pandas as pd\n",
        "\n",
        "titanic = pd.read_csv('/content/drive/MyDrive/Pandas/CSV/titanic.csv')\n",
        "\n",
        "print(titanic.sample(10))"
      ],
      "metadata": {
        "id": "pgsf-2zsmlYC"
      },
      "execution_count": null,
      "outputs": []
    },
    {
      "cell_type": "code",
      "source": [
        "import pandas as pd\n",
        "\n",
        "titanic = pd.read_csv('/content/drive/MyDrive/Pandas/CSV/titanic.csv')\n",
        "\n",
        "print(titanic.head())"
      ],
      "metadata": {
        "id": "wIVswoN8ebGo"
      },
      "execution_count": null,
      "outputs": []
    },
    {
      "cell_type": "code",
      "source": [
        "import pandas as pd\n",
        "\n",
        "titanic = pd.read_csv('/content/drive/MyDrive/Pandas/CSV/titanic.csv')\n",
        "\n",
        "print(titanic.tail())"
      ],
      "metadata": {
        "id": "Yr5m-3O0enAG"
      },
      "execution_count": null,
      "outputs": []
    },
    {
      "cell_type": "code",
      "source": [
        "import pandas as pd\n",
        "\n",
        "titanic = pd.read_csv('/content/drive/MyDrive/Pandas/CSV/titanic.csv')\n",
        "\n",
        "print(titanic.info())"
      ],
      "metadata": {
        "id": "aM45n8a8e0-F"
      },
      "execution_count": null,
      "outputs": []
    },
    {
      "cell_type": "markdown",
      "source": [
        "### Random Valus"
      ],
      "metadata": {
        "id": "1KySvw5kn3F5"
      }
    },
    {
      "cell_type": "code",
      "source": [
        "#Accessing Random values\n",
        "import pandas as pd\n",
        "\n",
        "anscombe = pd.read_json('/content/sample_data/anscombe.json')\n",
        "\n",
        "print(anscombe.sample(10))"
      ],
      "metadata": {
        "id": "MU1Ae9m1m9Lw"
      },
      "execution_count": null,
      "outputs": []
    },
    {
      "cell_type": "code",
      "source": [
        "#Accessing Random values\n",
        "import pandas as pd\n",
        "\n",
        "anscombe = pd.read_json('/content/sample_data/anscombe.json')\n",
        "\n",
        "print(anscombe.sample(10, random_state = 1))"
      ],
      "metadata": {
        "id": "9aFfvdtzfr4p"
      },
      "execution_count": null,
      "outputs": []
    },
    {
      "cell_type": "markdown",
      "source": [
        "###Accessing specific value"
      ],
      "metadata": {
        "id": "47Ks9oL5n80y"
      }
    },
    {
      "cell_type": "code",
      "source": [
        "data = pd.read_json('/content/drive/MyDrive/Pandas/Json/data.json')\n",
        "\n",
        "print(data.loc[2])"
      ],
      "metadata": {
        "id": "0pwTBm82ourZ"
      },
      "execution_count": null,
      "outputs": []
    },
    {
      "cell_type": "code",
      "source": [
        "data = pd.read_json('/content/drive/MyDrive/Pandas/Json/data.json')\n",
        "\n",
        "print(data.loc[[0, 1, 2]])"
      ],
      "metadata": {
        "id": "0u53Ouigo4vI"
      },
      "execution_count": null,
      "outputs": []
    },
    {
      "cell_type": "code",
      "source": [
        "data = pd.read_json('/content/drive/MyDrive/Pandas/Json/data.json')\n",
        "\n",
        "print(data.loc[5:])"
      ],
      "metadata": {
        "id": "HxhYFE9LpNxx"
      },
      "execution_count": null,
      "outputs": []
    },
    {
      "cell_type": "code",
      "source": [
        "data = pd.read_json('/content/drive/MyDrive/Pandas/Json/data.json')\n",
        "\n",
        "print(data)"
      ],
      "metadata": {
        "id": "cV0av53yq_65"
      },
      "execution_count": null,
      "outputs": []
    },
    {
      "cell_type": "markdown",
      "source": [
        "### Accessing Specific Column"
      ],
      "metadata": {
        "id": "U6BRmtxhPNxF"
      }
    },
    {
      "cell_type": "code",
      "source": [
        "data = pd.read_json('/content/drive/MyDrive/Pandas/Json/data.json')\n",
        "\n",
        "print(data.Calories)"
      ],
      "metadata": {
        "id": "6PjFgSUbPJRq"
      },
      "execution_count": null,
      "outputs": []
    },
    {
      "cell_type": "code",
      "source": [
        "data = pd.read_json('/content/drive/MyDrive/Pandas/Json/data.json')\n",
        "\n",
        "print(data.Maxpulse)"
      ],
      "metadata": {
        "id": "Vj65jXotPS9V"
      },
      "execution_count": null,
      "outputs": []
    },
    {
      "cell_type": "code",
      "source": [
        "data = pd.read_json('/content/drive/MyDrive/Pandas/Json/data.json')\n",
        "\n",
        "print(data[\"Maxpulse\"])"
      ],
      "metadata": {
        "id": "iNX4qXMkPboL"
      },
      "execution_count": null,
      "outputs": []
    },
    {
      "cell_type": "markdown",
      "source": [
        "### Sorting Specific Column"
      ],
      "metadata": {
        "id": "ZmSj-UQmPm8k"
      }
    },
    {
      "cell_type": "code",
      "source": [
        "data = pd.read_json('/content/drive/MyDrive/Pandas/Json/data.json')\n",
        "\n",
        "print(data.sort_values(\"Pulse\"))"
      ],
      "metadata": {
        "id": "HGnBl7iSPxaj"
      },
      "execution_count": null,
      "outputs": []
    },
    {
      "cell_type": "code",
      "source": [
        "exercise = pd.read_csv('/content/drive/MyDrive/Pandas/CSV/exercise.csv')\n",
        "\n",
        "print(exercise.sort_values(\"Date\"))"
      ],
      "metadata": {
        "id": "KFbBcN5kQ9Ok"
      },
      "execution_count": null,
      "outputs": []
    },
    {
      "cell_type": "code",
      "source": [
        "exercise = pd.read_csv('/content/drive/MyDrive/Pandas/CSV/exercise.csv')\n",
        "\n",
        "print(exercise.sort_values(\"Calories\", ascending = False))"
      ],
      "metadata": {
        "id": "mvIEcCTHRZV6"
      },
      "execution_count": null,
      "outputs": []
    },
    {
      "cell_type": "code",
      "source": [
        "people = pd.read_csv('/content/drive/MyDrive/Pandas/CSV/people.csv')\n",
        "\n",
        "print(people.sort_values('First Name'))"
      ],
      "metadata": {
        "id": "4zAwDVfNRpnb"
      },
      "execution_count": null,
      "outputs": []
    },
    {
      "cell_type": "code",
      "source": [
        "data = pd.read_json('/content/drive/MyDrive/Pandas/Json/data.json')\n",
        "\n",
        "print(data.iloc[0 : 5, [1, 3]]) #[1, 3] firstindex, secondindex"
      ],
      "metadata": {
        "id": "kC59mBIHpsBk"
      },
      "execution_count": null,
      "outputs": []
    },
    {
      "cell_type": "code",
      "source": [
        "data = pd.read_json('/content/drive/MyDrive/Pandas/Json/data.json')\n",
        "print(data.loc[100 :110, 'Pulse'])"
      ],
      "metadata": {
        "id": "b1Rre2xor8te"
      },
      "execution_count": null,
      "outputs": []
    },
    {
      "cell_type": "code",
      "source": [
        "data = pd.read_json('/content/drive/MyDrive/Pandas/Json/data.json')\n",
        "\n",
        "data.loc[3, \"Calories\"] = 380\n",
        "print(data)"
      ],
      "metadata": {
        "id": "A2CjTEyytOvu"
      },
      "execution_count": null,
      "outputs": []
    },
    {
      "cell_type": "code",
      "source": [
        "data = pd.read_json('/content/drive/MyDrive/Pandas/Json/data.json')\n",
        "\n",
        "print(data.loc[2, 'Pulse'])"
      ],
      "metadata": {
        "id": "7FjKW5U-n8AF"
      },
      "execution_count": null,
      "outputs": []
    },
    {
      "cell_type": "code",
      "source": [
        "data = pd.read_json('/content/drive/MyDrive/Pandas/Json/data.json')\n",
        "\n",
        "data.loc[3, \"Calories\"] = 380\n",
        "print(data)"
      ],
      "metadata": {
        "id": "ebrW2o0VuapR"
      },
      "execution_count": null,
      "outputs": []
    },
    {
      "cell_type": "code",
      "source": [
        "data = pd.read_json('/content/drive/MyDrive/Pandas/Json/data.json')\n",
        "\n",
        "\n",
        "print(data.at[4, \"Pulse\"])"
      ],
      "metadata": {
        "id": "Hhb21EaDNhK9"
      },
      "execution_count": null,
      "outputs": []
    },
    {
      "cell_type": "code",
      "source": [
        "data = pd.read_json('/content/drive/MyDrive/Pandas/Json/data.json')\n",
        "\n",
        "\n",
        "print(data.iat[0, 1])"
      ],
      "metadata": {
        "id": "hbZwbTF6Oh-y"
      },
      "execution_count": null,
      "outputs": []
    },
    {
      "cell_type": "code",
      "source": [
        "import pandas as pd\n",
        "\n",
        "anscombe = pd.read_json('/content/sample_data/anscombe.json')\n",
        "\n",
        "print(anscombe.head(10))"
      ],
      "metadata": {
        "id": "_k3ZswL_f_sU"
      },
      "execution_count": null,
      "outputs": []
    },
    {
      "cell_type": "code",
      "source": [
        "import pandas as pd\n",
        "\n",
        "anscombe = pd.read_json('/content/sample_data/anscombe.json')\n",
        "\n",
        "print(anscombe.tail(10))"
      ],
      "metadata": {
        "id": "GIps0iXLgCV4"
      },
      "execution_count": null,
      "outputs": []
    },
    {
      "cell_type": "code",
      "source": [
        "import pandas as pd\n",
        "\n",
        "anscombe = pd.read_json('/content/sample_data/anscombe.json')\n",
        "\n",
        "print(anscombe.tail())"
      ],
      "metadata": {
        "id": "Ci0ak9CWgE7y"
      },
      "execution_count": null,
      "outputs": []
    },
    {
      "cell_type": "markdown",
      "source": [
        "#Cleaning Empty Cell"
      ],
      "metadata": {
        "id": "gykMJJVftAaP"
      }
    },
    {
      "cell_type": "code",
      "source": [
        "import pandas as pd\n",
        "\n",
        "titanic = pd.read_csv('/content/drive/MyDrive/Pandas/CSV/customers.csv')\n",
        "new = titanic.dropna()\n",
        "\n",
        "print(new.to_string())"
      ],
      "metadata": {
        "id": "tx59cHnZtSQu"
      },
      "execution_count": null,
      "outputs": []
    },
    {
      "cell_type": "code",
      "source": [
        "import pandas as pd\n",
        "\n",
        "titanic = pd.read_csv('/content/drive/MyDrive/Pandas/CSV/customers.csv')\n",
        "titanic.dropna(inplace = True)\n",
        "\n",
        "print(titanic.to_string())"
      ],
      "metadata": {
        "id": "bQN20fOttr8Z"
      },
      "execution_count": null,
      "outputs": []
    },
    {
      "cell_type": "code",
      "source": [
        "import pandas as pd\n",
        "\n",
        "data = pd.read_json('/content/drive/MyDrive/Pandas/Json/data.json')\n",
        "print(data.to_string())"
      ],
      "metadata": {
        "id": "Ogywn6my1pWo"
      },
      "execution_count": null,
      "outputs": []
    },
    {
      "cell_type": "code",
      "source": [
        "import pandas as pd\n",
        "\n",
        "data = pd.read_json('/content/drive/MyDrive/Pandas/Json/data.json')\n",
        "data.dropna(inplace = True)\n",
        "print(data.to_string())"
      ],
      "metadata": {
        "id": "ecHZGTih1X3-"
      },
      "execution_count": null,
      "outputs": []
    },
    {
      "cell_type": "code",
      "source": [
        "import pandas as pd\n",
        "\n",
        "data = pd.read_json('/content/drive/MyDrive/Pandas/Json/data.json')\n",
        "data.fillna(130, inplace = True)\n",
        "\n",
        "print(data)"
      ],
      "metadata": {
        "id": "O5LgF__o1y9n"
      },
      "execution_count": null,
      "outputs": []
    },
    {
      "cell_type": "code",
      "source": [
        "import pandas as pd\n",
        "\n",
        "data = pd.read_json('/content/drive/MyDrive/Pandas/Json/data.json')\n",
        "data.fillna({\"Calories\": 130}, inplace=True)\n",
        "\n",
        "print(data)"
      ],
      "metadata": {
        "id": "IFA7RNCA2Nwv"
      },
      "execution_count": null,
      "outputs": []
    },
    {
      "cell_type": "code",
      "source": [
        "import pandas as pd\n",
        "\n",
        "data = pd.read_json('/content/drive/MyDrive/Pandas/Json/data.json')\n",
        "x = data[\"Calories\"].mean()\n",
        "\n",
        "data.fillna({\"Calories\": x}, inplace=True)\n",
        "\n",
        "print(\"Mean of the data Is\", x)\n",
        "print(data)"
      ],
      "metadata": {
        "id": "IJchsSZm2a8t"
      },
      "execution_count": null,
      "outputs": []
    },
    {
      "cell_type": "code",
      "source": [
        "import pandas as pd\n",
        "\n",
        "data = pd.read_json('/content/drive/MyDrive/Pandas/Json/data.json')\n",
        "x = data[\"Calories\"].median()\n",
        "\n",
        "data.fillna({\"Calories\": x}, inplace=True)\n",
        "\n",
        "print(\"Median of the data Is\", x)\n",
        "print(data)"
      ],
      "metadata": {
        "id": "7F-gA7363Des"
      },
      "execution_count": null,
      "outputs": []
    },
    {
      "cell_type": "code",
      "source": [
        "import pandas as pd\n",
        "\n",
        "data = pd.read_json('/content/drive/MyDrive/Pandas/Json/data.json')\n",
        "x = data[\"Calories\"].mode()\n",
        "\n",
        "data.fillna({\"Calories\": x}, inplace=True)\n",
        "\n",
        "print(\"Mode of the data Is\", x)\n",
        "print(data)"
      ],
      "metadata": {
        "id": "f0Lko1QB3a05"
      },
      "execution_count": null,
      "outputs": []
    },
    {
      "cell_type": "markdown",
      "source": [
        "#Correlation"
      ],
      "metadata": {
        "id": "vxR1PYz44Dq9"
      }
    },
    {
      "cell_type": "code",
      "source": [
        "customers = pd.read_csv('/content/drive/MyDrive/Pandas/CSV/customers.csv')\n",
        "numeric_data = customers.select_dtypes(include='number')\n",
        "\n",
        "print(numeric_data.corr())"
      ],
      "metadata": {
        "id": "h68iQLED5Dhs"
      },
      "execution_count": null,
      "outputs": []
    },
    {
      "cell_type": "code",
      "source": [
        "import pandas as pd\n",
        "\n",
        "sample = pd.read_json('/content/drive/MyDrive/Pandas/Json/sample.json')\n",
        "numeric_data = sample.select_dtypes(include='number')\n",
        "\n",
        "print(numeric_data.corr())"
      ],
      "metadata": {
        "id": "74P_6gVS4ojB"
      },
      "execution_count": null,
      "outputs": []
    },
    {
      "cell_type": "markdown",
      "source": [
        "# Correcting the Wrong Formet"
      ],
      "metadata": {
        "id": "Ytz2eUn5d577"
      }
    },
    {
      "cell_type": "code",
      "source": [
        "import pandas as pd\n",
        "\n",
        "people = pd.read_csv('/content/drive/MyDrive/Pandas/CSV/people.csv')\n",
        "\n",
        "print(people.to_string())"
      ],
      "metadata": {
        "id": "2RoZYciff6Si"
      },
      "execution_count": null,
      "outputs": []
    },
    {
      "cell_type": "code",
      "source": [
        "import pandas as pd\n",
        "\n",
        "people = pd.read_csv('/content/drive/MyDrive/Pandas/CSV/people.csv')\n",
        "people['Date of birth'] = pd.to_datetime(people['Date of birth'], format='mixed')\n",
        "\n",
        "print(people.to_string())"
      ],
      "metadata": {
        "id": "DnmkqWVKd9NN"
      },
      "execution_count": null,
      "outputs": []
    },
    {
      "cell_type": "code",
      "source": [
        "import pandas as pd\n",
        "\n",
        "people = pd.read_csv('/content/drive/MyDrive/Pandas/CSV/people.csv')\n",
        "people.dropna(subset = ['Date of birth'], inplace = True)\n",
        "\n",
        "print(people.to_string())"
      ],
      "metadata": {
        "id": "qk-fb7X3g9Lb"
      },
      "execution_count": null,
      "outputs": []
    },
    {
      "cell_type": "code",
      "source": [
        "import pandas as pd\n",
        "\n",
        "people = pd.read_csv('/content/drive/MyDrive/Pandas/CSV/people.csv')\n",
        "\n",
        "people.loc[3, 'Date of birth'] = \"10/26/2002\"\n",
        "print(people.to_string())"
      ],
      "metadata": {
        "id": "KiLbXGnJhtWA"
      },
      "execution_count": null,
      "outputs": []
    },
    {
      "cell_type": "code",
      "source": [
        "import pandas as pd\n",
        "\n",
        "exercise_data = pd.read_csv(\"/content/drive/MyDrive/Pandas/CSV/exercise_data.csv\")\n",
        "\n",
        "print(exercise_data)"
      ],
      "metadata": {
        "id": "8-E9z_jrZEFm"
      },
      "execution_count": null,
      "outputs": []
    },
    {
      "cell_type": "code",
      "source": [
        "import pandas as pd\n",
        "\n",
        "exercise_data = pd.read_csv(\"/content/drive/MyDrive/Pandas/CSV/exercise_data.csv\")\n",
        "\n",
        "for i in exercise_data.index:\n",
        "  if exercise_data.loc[i, 'Duration'] > 120:\n",
        "    exercise_data.loc[i, 'Duration'] = 120\n",
        "\n",
        "print(exercise_data.to_string())"
      ],
      "metadata": {
        "id": "VHSt3bXCZg2I"
      },
      "execution_count": null,
      "outputs": []
    },
    {
      "cell_type": "markdown",
      "source": [
        "#Removing Duplicate Values"
      ],
      "metadata": {
        "id": "p5l5TuMtbH_q"
      }
    },
    {
      "cell_type": "code",
      "source": [
        "import pandas as pd\n",
        "\n",
        "exercise_data = pd.read_csv(\"/content/drive/MyDrive/Pandas/CSV/exercise_data.csv\")\n",
        "\n",
        "print(exercise_data.duplicated())"
      ],
      "metadata": {
        "id": "3F3L1rhwbKRt"
      },
      "execution_count": null,
      "outputs": []
    },
    {
      "cell_type": "code",
      "source": [
        "import pandas as pd\n",
        "\n",
        "exercise = pd.read_csv('/content/drive/MyDrive/Pandas/CSV/exercise.csv')\n",
        "\n",
        "print(exercise.duplicated())"
      ],
      "metadata": {
        "id": "Ae7su7Iykdsj"
      },
      "execution_count": null,
      "outputs": []
    },
    {
      "cell_type": "code",
      "source": [
        "import pandas as pd\n",
        "\n",
        "exercise = pd.read_csv('/content/drive/MyDrive/Pandas/CSV/exercise.csv')\n",
        "exercise.drop_duplicates(inplace = True)\n",
        "\n",
        "print(exercise.duplicated())"
      ],
      "metadata": {
        "id": "X-nkIDoKkg8I"
      },
      "execution_count": null,
      "outputs": []
    },
    {
      "cell_type": "markdown",
      "source": [
        "#Ploting"
      ],
      "metadata": {
        "id": "RhQRrel3fPPG"
      }
    },
    {
      "cell_type": "code",
      "source": [
        "import pandas as pd\n",
        "import matplotlib.pyplot as plt\n",
        "\n",
        "titanic = pd.read_csv('/content/drive/MyDrive/Pandas/CSV/titanic.csv')\n",
        "\n",
        "titanic.plot()\n",
        "plt.show()"
      ],
      "metadata": {
        "id": "qqcMrmiOfREm"
      },
      "execution_count": null,
      "outputs": []
    },
    {
      "cell_type": "code",
      "source": [
        "import pandas as pd\n",
        "import matplotlib.pyplot as plt\n",
        "\n",
        "titanic = pd.read_csv('/content/drive/MyDrive/Pandas/CSV/titanic.csv')\n",
        "print(titanic.columns)\n",
        "titanic.plot(kind = 'scatter', x = 'Pclass', y = 'PassengerId')\n",
        "plt.show()"
      ],
      "metadata": {
        "id": "cZcY85ypgXsp"
      },
      "execution_count": null,
      "outputs": []
    },
    {
      "cell_type": "code",
      "source": [
        "import pandas as pd\n",
        "import matplotlib.pyplot as plt\n",
        "import sys\n",
        "\n",
        "titanic = pd.read_csv('/content/drive/MyDrive/Pandas/CSV/titanic.csv')\n",
        "print(titanic.columns)\n",
        "titanic['Survived'].plot(kind = 'hist')\n",
        "plt.show()\n"
      ],
      "metadata": {
        "id": "YiI1s45Sh3mZ"
      },
      "execution_count": null,
      "outputs": []
    }
  ]
}