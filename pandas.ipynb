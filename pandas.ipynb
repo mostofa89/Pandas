{
  "nbformat": 4,
  "nbformat_minor": 0,
  "metadata": {
    "colab": {
      "private_outputs": true,
      "provenance": [],
      "mount_file_id": "https://github.com/mostofa89/Pandas/blob/main/pandas.ipynb",
      "authorship_tag": "ABX9TyO41dhAbO7LtZg9OAZHZBfv",
      "include_colab_link": true
    },
    "kernelspec": {
      "name": "python3",
      "display_name": "Python 3"
    },
    "language_info": {
      "name": "python"
    }
  },
  "cells": [
    {
      "cell_type": "markdown",
      "metadata": {
        "id": "view-in-github",
        "colab_type": "text"
      },
      "source": [
        "<a href=\"https://colab.research.google.com/github/mostofa89/Pandas/blob/main/pandas.ipynb\" target=\"_parent\"><img src=\"https://colab.research.google.com/assets/colab-badge.svg\" alt=\"Open In Colab\"/></a>"
      ]
    },
    {
      "cell_type": "code",
      "execution_count": null,
      "metadata": {
        "id": "V7Bgom_yO-r4"
      },
      "outputs": [],
      "source": [
        "import pandas as pd"
      ]
    },
    {
      "cell_type": "code",
      "source": [
        "print(pd.__version__)"
      ],
      "metadata": {
        "id": "FmqbMH5XQPUe"
      },
      "execution_count": null,
      "outputs": []
    },
    {
      "cell_type": "code",
      "source": [
        "datasets = {\n",
        "  \"cars\" : [\"Alpha Romio\", \"BMW\", \"Ford\", \"Honda\", \"Toyota\", \"Volvo\"],\n",
        "  \"passing\" : [1, 3, 5, 7, 9, 11]\n",
        "}\n",
        "\n",
        "\n",
        "myvar = pd.DataFrame(datasets)\n",
        "print(myvar)"
      ],
      "metadata": {
        "id": "Jv2RzqiIPFQd"
      },
      "execution_count": null,
      "outputs": []
    },
    {
      "cell_type": "markdown",
      "source": [
        "#Series"
      ],
      "metadata": {
        "id": "9yr4QONPQdNd"
      }
    },
    {
      "cell_type": "code",
      "source": [
        "import pandas as pd\n",
        "\n",
        "nums = [1, 3, 5, 7, 9]\n",
        "\n",
        "num_tab = pd.Series(nums)\n",
        "print(num_tab)"
      ],
      "metadata": {
        "id": "epCpYFshQezy"
      },
      "execution_count": null,
      "outputs": []
    },
    {
      "cell_type": "code",
      "source": [
        "import pandas as pd\n",
        "\n",
        "nums = [1, 3, 5, 7, 9]\n",
        "\n",
        "num_tab = pd.Series(nums, index = ['a', 'b', 'c', 'd', 'e'])\n",
        "print(num_tab)"
      ],
      "metadata": {
        "id": "YH2rv3ZJavZF"
      },
      "execution_count": null,
      "outputs": []
    },
    {
      "cell_type": "code",
      "source": [
        "import pandas as pd\n",
        "\n",
        "nums = [1, 3, 5, 7, 9]\n",
        "\n",
        "num_tab = pd.Series(nums, index = ['a', 'b', 'c', 'd', 'e'])\n",
        "print(num_tab['e'])"
      ],
      "metadata": {
        "id": "agHwrSwaa8S-"
      },
      "execution_count": null,
      "outputs": []
    },
    {
      "cell_type": "code",
      "source": [
        "import pandas as pd\n",
        "\n",
        "nums = [1.34, 3.14, 5.5, 7.3, 9.9]\n",
        "\n",
        "num_tab = pd.Series(nums)\n",
        "print(num_tab)"
      ],
      "metadata": {
        "id": "0HpnlSB0RL9R"
      },
      "execution_count": null,
      "outputs": []
    },
    {
      "cell_type": "code",
      "source": [
        "import pandas as pd\n",
        "\n",
        "nums = [1.34, 3.14, 5.5, 7.3, 9.9]\n",
        "\n",
        "num_tab = pd.Series(nums)\n",
        "print(num_tab[4])"
      ],
      "metadata": {
        "id": "PWNQXEOqSClL"
      },
      "execution_count": null,
      "outputs": []
    },
    {
      "cell_type": "code",
      "source": [
        "import pandas as pd\n",
        "\n",
        "cars = [\"Alpha Romio\", \"BMW\", \"Ford\", \"Honda\", \"Toyota\", \"Volvo\"]\n",
        "\n",
        "cars_tab = pd.Series(cars)\n",
        "print(cars_tab)"
      ],
      "metadata": {
        "id": "r8O81yR8Q1my"
      },
      "execution_count": null,
      "outputs": []
    },
    {
      "cell_type": "code",
      "source": [
        "#indexing\n",
        "import pandas as pd\n",
        "\n",
        "cars = [\"Alpha Romio\", \"BMW\", \"Ford\", \"Honda\", \"Toyota\", \"Volvo\"]\n",
        "\n",
        "cars_tab = pd.Series(cars)\n",
        "print(cars_tab[0])"
      ],
      "metadata": {
        "id": "TMnDnAr5R4od"
      },
      "execution_count": null,
      "outputs": []
    },
    {
      "cell_type": "code",
      "source": [
        "import pandas as pd\n",
        "\n",
        "datasets = {\n",
        "  \"cars\" : [\"Alpha Romio\", \"BMW\", \"Ford\", \"Honda\", \"Toyota\", \"Volvo\"],\n",
        "  \"passing\" : [1, 3, 5, 7, 9, 11]\n",
        "}\n",
        "\n",
        "data_tab = pd.Series(datasets)\n",
        "print(data_tab)"
      ],
      "metadata": {
        "id": "l91bX8bBRYtu"
      },
      "execution_count": null,
      "outputs": []
    },
    {
      "cell_type": "code",
      "source": [
        "import pandas as pd\n",
        "\n",
        "calories = {\"day1\": 420, \"day2\": 380, \"day3\": 390}\n",
        "\n",
        "cal_tab = pd.Series(calories, index = [\"day1\", \"day2\"])\n",
        "print(cal_tab['day1'])"
      ],
      "metadata": {
        "id": "ljxSTQR8R3Vl"
      },
      "execution_count": null,
      "outputs": []
    },
    {
      "cell_type": "markdown",
      "source": [
        "#Data Frames"
      ],
      "metadata": {
        "id": "GDl8hW86bzef"
      }
    },
    {
      "cell_type": "code",
      "source": [
        "import pandas as pd\n",
        "\n",
        "datasets = {\n",
        "  \"cars\" : [\"Alpha Romio\", \"BMW\", \"Ford\", \"Honda\", \"Toyota\", \"Volvo\"],\n",
        "  \"passing\" : [1, 3, 5, 7, 9, 11]\n",
        "}\n",
        "\n",
        "data_tab = pd.DataFrame(datasets)\n",
        "print(data_tab)"
      ],
      "metadata": {
        "id": "lNZXWTGgb1sg"
      },
      "execution_count": null,
      "outputs": []
    },
    {
      "cell_type": "code",
      "source": [
        "import pandas as pd\n",
        "\n",
        "datasets = {\n",
        "  \"cars\" : [\"Alpha Romio\", \"BMW\", \"Ford\", \"Honda\", \"Toyota\", \"Volvo\"],\n",
        "  \"passing\" : [1, 3, 5, 7, 9, 11]\n",
        "}\n",
        "\n",
        "data_frame = pd.DataFrame(datasets, index=[1, 2, 3, 4, 5, 6])\n",
        "print(data_tab)"
      ],
      "metadata": {
        "id": "1b4aVOvab-zU"
      },
      "execution_count": null,
      "outputs": []
    },
    {
      "cell_type": "code",
      "source": [
        "import pandas as pd\n",
        "\n",
        "datasets = {\n",
        "  \"cars\" : [\"Alpha Romio\", \"BMW\", \"Ford\", \"Honda\", \"Toyota\", \"Volvo\"],\n",
        "  \"passing\" : [1, 3, 5, 7, 9, 11]\n",
        "}\n",
        "\n",
        "data_frame = pd.DataFrame(datasets)\n",
        "print(data_frame.loc[0])"
      ],
      "metadata": {
        "id": "b9Qi9FQfcZMN"
      },
      "execution_count": null,
      "outputs": []
    },
    {
      "cell_type": "code",
      "source": [
        "import pandas as pd\n",
        "\n",
        "datasets = {\n",
        "  \"cars\" : [\"Alpha Romio\", \"BMW\", \"Ford\", \"Honda\", \"Toyota\", \"Volvo\"],\n",
        "  \"passing\" : [1, 3, 5, 7, 9, 11]\n",
        "}\n",
        "\n",
        "data_frame = pd.DataFrame(datasets)\n",
        "print(data_frame.loc[[0, 1]]) # index1, index2\n",
        "print(data_frame.loc[[1, 4]])"
      ],
      "metadata": {
        "id": "gxk-f6INdDnv"
      },
      "execution_count": null,
      "outputs": []
    },
    {
      "cell_type": "code",
      "source": [
        "import pandas as pd\n",
        "\n",
        "data = {\n",
        "  \"calories\": [420, 380, 390],\n",
        "  \"duration\": [50, 40, 45]\n",
        "}\n",
        "\n",
        "df = pd.DataFrame(data, index = [\"day1\", \"day2\", \"day3\"])\n",
        "\n",
        "print(df)"
      ],
      "metadata": {
        "id": "BFawB9SPdff5"
      },
      "execution_count": null,
      "outputs": []
    },
    {
      "cell_type": "code",
      "source": [
        "data = {\n",
        "  \"calories\": [420, 380, 390],\n",
        "  \"duration\": [50, 40, 45]\n",
        "}\n",
        "\n",
        "df = pd.DataFrame(data, index = [\"day1\", \"day2\", \"day3\"])\n",
        "\n",
        "print(df.loc['day1'])"
      ],
      "metadata": {
        "id": "6OYYmUstdl7i"
      },
      "execution_count": null,
      "outputs": []
    },
    {
      "cell_type": "code",
      "source": [
        "data = {\n",
        "  \"calories\": [420, 380, 390],\n",
        "  \"duration\": [50, 40, 45]\n",
        "}\n",
        "\n",
        "df = pd.DataFrame(data)\n",
        "\n",
        "print(df)"
      ],
      "metadata": {
        "id": "EtNd9lgPhEE4"
      },
      "execution_count": null,
      "outputs": []
    },
    {
      "cell_type": "code",
      "source": [
        "df = pd.DataFrame([[1, 2, 3], [4, 5, 6], [7, 8, 9]], columns = ['x', 'y', 'z'])\n",
        "\n",
        "print(df)"
      ],
      "metadata": {
        "id": "AW9OplebhdTL"
      },
      "execution_count": null,
      "outputs": []
    },
    {
      "cell_type": "code",
      "source": [
        "print(df.index.tolist())"
      ],
      "metadata": {
        "id": "eYOFbZElig3C"
      },
      "execution_count": null,
      "outputs": []
    },
    {
      "cell_type": "code",
      "source": [
        "df = pd.DataFrame([[1, 2, 3], [4, 5, 6], [7, 8, 9]], columns = ['x', 'y', 'z'], index = [\"a\", \"b\", \"c\"])\n",
        "\n",
        "print(df)"
      ],
      "metadata": {
        "id": "jZqVArMhirWx"
      },
      "execution_count": null,
      "outputs": []
    },
    {
      "cell_type": "code",
      "source": [
        "df.info()"
      ],
      "metadata": {
        "id": "7TOVyXbJjHcW"
      },
      "execution_count": null,
      "outputs": []
    },
    {
      "cell_type": "code",
      "source": [
        "print(df.describe())"
      ],
      "metadata": {
        "id": "yJ0I_t2xjefo"
      },
      "execution_count": null,
      "outputs": []
    },
    {
      "cell_type": "code",
      "source": [
        "print(df.nunique())"
      ],
      "metadata": {
        "id": "M-pxsTUijrIp"
      },
      "execution_count": null,
      "outputs": []
    },
    {
      "cell_type": "code",
      "source": [
        "print(df.shape)"
      ],
      "metadata": {
        "id": "gAuEJEA0j14c"
      },
      "execution_count": null,
      "outputs": []
    },
    {
      "cell_type": "code",
      "source": [
        "df = pd.DataFrame([[1, 2, 3], [4, 5, 6], [7, 8, 9]], columns = ['x', 'y', 'z'], index = [\"a\", \"b\", \"c\"])\n",
        "\n",
        "print(df.size)"
      ],
      "metadata": {
        "id": "UPgMK3S6kR7Y"
      },
      "execution_count": null,
      "outputs": []
    },
    {
      "cell_type": "code",
      "source": [
        "data = {\n",
        "  \"calories\": [420, 380, 390],\n",
        "  \"duration\": [50, 40, 45]\n",
        "}\n",
        "\n",
        "df = pd.DataFrame(data, index = [\"day1\", \"day2\", \"day3\"])\n",
        "\n",
        "print(df.loc[['day1', 'day3']])"
      ],
      "metadata": {
        "id": "lLS23Jr7dqAW"
      },
      "execution_count": null,
      "outputs": []
    },
    {
      "cell_type": "code",
      "source": [
        "data = {\n",
        "  \"calories\": [420, 380, 390],\n",
        "  \"duration\": [50, 40, 45]\n",
        "}\n",
        "\n",
        "df = pd.DataFrame(data, index = [\"day1\", \"day2\", \"day3\"])\n",
        "\n",
        "print(df.shape)\n",
        "print(df.size)"
      ],
      "metadata": {
        "id": "5bwc1-wej8vz"
      },
      "execution_count": null,
      "outputs": []
    },
    {
      "cell_type": "code",
      "source": [],
      "metadata": {
        "id": "nnslr53WkLxm"
      },
      "execution_count": null,
      "outputs": []
    },
    {
      "cell_type": "markdown",
      "source": [
        "#Reading CSV File"
      ],
      "metadata": {
        "id": "kAZOB0pdFzo8"
      }
    },
    {
      "cell_type": "code",
      "source": [
        "import pandas as pd\n",
        "\n",
        "\n",
        "titanic = pd.read_csv(\"/content/drive/MyDrive/Pandas/CSV/titanic.csv\")\n",
        "print(titanic.head())\n"
      ],
      "metadata": {
        "id": "NZk7SuX1F2Ml"
      },
      "execution_count": null,
      "outputs": []
    },
    {
      "cell_type": "code",
      "source": [
        "import pandas as pd\n",
        "\n",
        "\n",
        "titanic = pd.read_csv(\"/content/drive/MyDrive/Pandas/CSV/titanic.csv\")\n",
        "print(titanic.to_string())"
      ],
      "metadata": {
        "id": "AY8wuniDF8tU"
      },
      "execution_count": null,
      "outputs": []
    },
    {
      "cell_type": "code",
      "source": [
        "import pandas as pd\n",
        "\n",
        "\n",
        "titanic = pd.read_csv(\"/content/drive/MyDrive/Pandas/CSV/titanic.csv\")\n",
        "print(pd.options.display.max_rows)\n",
        "print(pd.options.display.max_columns)"
      ],
      "metadata": {
        "id": "YVPZ2AazS3R_"
      },
      "execution_count": null,
      "outputs": []
    },
    {
      "cell_type": "code",
      "source": [
        "import pandas as pd\n",
        "\n",
        "pd.options.display.max_rows = 9999\n",
        "titanic = pd.read_csv(\"/content/drive/MyDrive/Pandas/CSV/titanic.csv\")\n",
        "\n",
        "print(titanic)"
      ],
      "metadata": {
        "id": "QlZtfZp2TTQt"
      },
      "execution_count": null,
      "outputs": []
    },
    {
      "cell_type": "code",
      "source": [
        "import pandas as pd\n",
        "\n",
        "titanic = pd.read_csv(\"/content/drive/MyDrive/Pandas/CSV/titanic.csv\")\n",
        "\n",
        "print(titanic.to_excel)"
      ],
      "metadata": {
        "id": "qRpIEJY1ld0h"
      },
      "execution_count": null,
      "outputs": []
    },
    {
      "cell_type": "markdown",
      "source": [
        "# Read JSON File"
      ],
      "metadata": {
        "id": "JLUE3plFUk4r"
      }
    },
    {
      "cell_type": "code",
      "source": [
        "import pandas as pd\n",
        "\n",
        "data1 = pd.read_json('/content/drive/MyDrive/Pandas/Json/sample.json', orient = \"index\")\n",
        "\n",
        "print(data1)\n"
      ],
      "metadata": {
        "id": "TkJHOQ10TsgG"
      },
      "execution_count": null,
      "outputs": []
    },
    {
      "cell_type": "code",
      "source": [
        "import pandas as pd\n",
        "\n",
        "data1 = pd.read_json('/content/drive/MyDrive/Pandas/Json/sample.json', orient = \"columns\")\n",
        "\n",
        "print(data1)"
      ],
      "metadata": {
        "id": "aZUFt06y0u7l"
      },
      "execution_count": null,
      "outputs": []
    },
    {
      "cell_type": "code",
      "source": [
        "import pandas as pd\n",
        "\n",
        "data1 = pd.read_json('/content/drive/MyDrive/Pandas/Json/sample.json', orient = \"columns\")\n",
        "\n",
        "print(data1.to_excel)"
      ],
      "metadata": {
        "id": "CUZVVylOl4ax"
      },
      "execution_count": null,
      "outputs": []
    },
    {
      "cell_type": "code",
      "source": [
        "import pandas as pd\n",
        "\n",
        "data1 = pd.read_json('/content/drive/MyDrive/Pandas/Json/sample.json', orient = \"columns\")\n",
        "\n",
        "print(data1.to_csv)"
      ],
      "metadata": {
        "id": "O5o-7pU5mAaY"
      },
      "execution_count": null,
      "outputs": []
    },
    {
      "cell_type": "code",
      "source": [
        "import pandas as pd\n",
        "\n",
        "data = pd.read_json('/content/drive/MyDrive/Pandas/Json/data.json')\n",
        "print(data.to_string())"
      ],
      "metadata": {
        "id": "cUX7bTrI0zRM"
      },
      "execution_count": null,
      "outputs": []
    },
    {
      "cell_type": "code",
      "source": [
        "import pandas as pd\n",
        "\n",
        "data = pd.read_json('/content/sample_data/anscombe.json')\n",
        "print(data.to_string())"
      ],
      "metadata": {
        "id": "77NwheDUcW_p"
      },
      "execution_count": null,
      "outputs": []
    },
    {
      "cell_type": "markdown",
      "source": [
        "#Accessing Files"
      ],
      "metadata": {
        "id": "-n5MrLiIdtfy"
      }
    },
    {
      "cell_type": "code",
      "source": [
        "import pandas as pd\n",
        "\n",
        "df = pd.read_csv('/content/drive/MyDrive/Pandas/CSV/industry.csv')\n",
        "\n",
        "print(df.head(10))"
      ],
      "metadata": {
        "id": "mI5LaMLIds8v"
      },
      "execution_count": null,
      "outputs": []
    },
    {
      "cell_type": "markdown",
      "source": [
        "###Slicing Data"
      ],
      "metadata": {
        "id": "T4QcG375ncrh"
      }
    },
    {
      "cell_type": "code",
      "source": [
        "import pandas as pd\n",
        "\n",
        "df = pd.read_csv('/content/drive/MyDrive/Pandas/CSV/industry.csv')\n",
        "\n",
        "\n",
        "print(df[0: 15])"
      ],
      "metadata": {
        "id": "HcA7yuQNmOgq"
      },
      "execution_count": null,
      "outputs": []
    },
    {
      "cell_type": "code",
      "source": [
        "import pandas as pd\n",
        "\n",
        "df = pd.read_csv('/content/drive/MyDrive/Pandas/CSV/industry.csv')\n",
        "\n",
        "\n",
        "print(df[5: 15])"
      ],
      "metadata": {
        "id": "iXdfrL5Gmbby"
      },
      "execution_count": null,
      "outputs": []
    },
    {
      "cell_type": "code",
      "source": [
        "import pandas as pd\n",
        "\n",
        "titanic = pd.read_csv('/content/drive/MyDrive/Pandas/CSV/titanic.csv')\n",
        "\n",
        "print(titanic[10 : 20])"
      ],
      "metadata": {
        "id": "lWRhIBxheQAT"
      },
      "execution_count": null,
      "outputs": []
    },
    {
      "cell_type": "code",
      "source": [
        "import pandas as pd\n",
        "\n",
        "titanic = pd.read_csv('/content/drive/MyDrive/Pandas/CSV/titanic.csv')\n",
        "\n",
        "print(titanic.sample(10))"
      ],
      "metadata": {
        "id": "pgsf-2zsmlYC"
      },
      "execution_count": null,
      "outputs": []
    },
    {
      "cell_type": "code",
      "source": [
        "import pandas as pd\n",
        "\n",
        "titanic = pd.read_csv('/content/drive/MyDrive/Pandas/CSV/titanic.csv')\n",
        "\n",
        "print(titanic.head())"
      ],
      "metadata": {
        "id": "wIVswoN8ebGo"
      },
      "execution_count": null,
      "outputs": []
    },
    {
      "cell_type": "code",
      "source": [
        "import pandas as pd\n",
        "\n",
        "titanic = pd.read_csv('/content/drive/MyDrive/Pandas/CSV/titanic.csv')\n",
        "\n",
        "print(titanic.tail())"
      ],
      "metadata": {
        "id": "Yr5m-3O0enAG"
      },
      "execution_count": null,
      "outputs": []
    },
    {
      "cell_type": "code",
      "source": [
        "import pandas as pd\n",
        "\n",
        "titanic = pd.read_csv('/content/drive/MyDrive/Pandas/CSV/titanic.csv')\n",
        "\n",
        "print(titanic.info())"
      ],
      "metadata": {
        "id": "aM45n8a8e0-F"
      },
      "execution_count": null,
      "outputs": []
    },
    {
      "cell_type": "markdown",
      "source": [
        "### Random Valus"
      ],
      "metadata": {
        "id": "1KySvw5kn3F5"
      }
    },
    {
      "cell_type": "code",
      "source": [
        "#Accessing Random values\n",
        "import pandas as pd\n",
        "\n",
        "anscombe = pd.read_json('/content/sample_data/anscombe.json')\n",
        "\n",
        "print(anscombe.sample(10))"
      ],
      "metadata": {
        "id": "MU1Ae9m1m9Lw"
      },
      "execution_count": null,
      "outputs": []
    },
    {
      "cell_type": "code",
      "source": [
        "#Accessing Random values\n",
        "import pandas as pd\n",
        "\n",
        "anscombe = pd.read_json('/content/sample_data/anscombe.json')\n",
        "\n",
        "print(anscombe.sample(10, random_state = 1))"
      ],
      "metadata": {
        "id": "9aFfvdtzfr4p"
      },
      "execution_count": null,
      "outputs": []
    },
    {
      "cell_type": "markdown",
      "source": [
        "###Accessing specific value"
      ],
      "metadata": {
        "id": "47Ks9oL5n80y"
      }
    },
    {
      "cell_type": "code",
      "source": [
        "data = pd.read_json('/content/drive/MyDrive/Pandas/Json/data.json')\n",
        "\n",
        "print(data.loc[2])"
      ],
      "metadata": {
        "id": "0pwTBm82ourZ"
      },
      "execution_count": null,
      "outputs": []
    },
    {
      "cell_type": "code",
      "source": [
        "data = pd.read_json('/content/drive/MyDrive/Pandas/Json/data.json')\n",
        "\n",
        "print(data.loc[[0, 1, 2]])"
      ],
      "metadata": {
        "id": "0u53Ouigo4vI"
      },
      "execution_count": null,
      "outputs": []
    },
    {
      "cell_type": "code",
      "source": [
        "data = pd.read_json('/content/drive/MyDrive/Pandas/Json/data.json')\n",
        "\n",
        "print(data.loc[5:])"
      ],
      "metadata": {
        "id": "HxhYFE9LpNxx"
      },
      "execution_count": null,
      "outputs": []
    },
    {
      "cell_type": "code",
      "source": [
        "data = pd.read_json('/content/drive/MyDrive/Pandas/Json/data.json')\n",
        "\n",
        "print(data)"
      ],
      "metadata": {
        "id": "cV0av53yq_65"
      },
      "execution_count": null,
      "outputs": []
    },
    {
      "cell_type": "markdown",
      "source": [
        "### Accessing Specific Column"
      ],
      "metadata": {
        "id": "U6BRmtxhPNxF"
      }
    },
    {
      "cell_type": "code",
      "source": [
        "data = pd.read_json('/content/drive/MyDrive/Pandas/Json/data.json')\n",
        "\n",
        "print(data.Calories)"
      ],
      "metadata": {
        "id": "6PjFgSUbPJRq"
      },
      "execution_count": null,
      "outputs": []
    },
    {
      "cell_type": "code",
      "source": [
        "data = pd.read_json('/content/drive/MyDrive/Pandas/Json/data.json')\n",
        "\n",
        "print(data.Maxpulse)"
      ],
      "metadata": {
        "id": "Vj65jXotPS9V"
      },
      "execution_count": null,
      "outputs": []
    },
    {
      "cell_type": "code",
      "source": [
        "data = pd.read_json('/content/drive/MyDrive/Pandas/Json/data.json')\n",
        "\n",
        "print(data[\"Maxpulse\"])"
      ],
      "metadata": {
        "id": "iNX4qXMkPboL"
      },
      "execution_count": null,
      "outputs": []
    },
    {
      "cell_type": "markdown",
      "source": [
        "### Sorting Specific Column"
      ],
      "metadata": {
        "id": "ZmSj-UQmPm8k"
      }
    },
    {
      "cell_type": "code",
      "source": [
        "data = pd.read_json('/content/drive/MyDrive/Pandas/Json/data.json')\n",
        "\n",
        "print(data.sort_values(\"Pulse\"))"
      ],
      "metadata": {
        "id": "HGnBl7iSPxaj"
      },
      "execution_count": null,
      "outputs": []
    },
    {
      "cell_type": "code",
      "source": [
        "exercise = pd.read_csv('/content/drive/MyDrive/Pandas/CSV/exercise.csv')\n",
        "\n",
        "print(exercise.sort_values(\"Date\"))"
      ],
      "metadata": {
        "id": "KFbBcN5kQ9Ok"
      },
      "execution_count": null,
      "outputs": []
    },
    {
      "cell_type": "code",
      "source": [
        "exercise = pd.read_csv('/content/drive/MyDrive/Pandas/CSV/exercise.csv')\n",
        "\n",
        "print(exercise.sort_values(\"Calories\", ascending = False))"
      ],
      "metadata": {
        "id": "mvIEcCTHRZV6"
      },
      "execution_count": null,
      "outputs": []
    },
    {
      "cell_type": "code",
      "source": [
        "people = pd.read_csv('/content/drive/MyDrive/Pandas/CSV/people.csv')\n",
        "\n",
        "print(people.sort_values('First Name'))"
      ],
      "metadata": {
        "id": "LPrmnA-Qd9b2"
      },
      "execution_count": null,
      "outputs": []
    },
    {
      "cell_type": "code",
      "source": [
        "data = pd.read_json('/content/drive/MyDrive/Pandas/Json/data.json')\n",
        "\n",
        "print(data.iloc[0 : 5, [1, 3]]) #[1, 3] firstindex, secondindex"
      ],
      "metadata": {
        "id": "kC59mBIHpsBk"
      },
      "execution_count": null,
      "outputs": []
    },
    {
      "cell_type": "code",
      "source": [
        "data = pd.read_json('/content/drive/MyDrive/Pandas/Json/data.json')\n",
        "print(data.loc[100 :110, 'Pulse'])"
      ],
      "metadata": {
        "id": "b1Rre2xor8te"
      },
      "execution_count": null,
      "outputs": []
    },
    {
      "cell_type": "code",
      "source": [
        "data = pd.read_json('/content/drive/MyDrive/Pandas/Json/data.json')\n",
        "\n",
        "data.loc[3, \"Calories\"] = 380\n",
        "print(data)"
      ],
      "metadata": {
        "id": "A2CjTEyytOvu"
      },
      "execution_count": null,
      "outputs": []
    },
    {
      "cell_type": "code",
      "source": [
        "data = pd.read_json('/content/drive/MyDrive/Pandas/Json/data.json')\n",
        "\n",
        "print(data.loc[2, 'Pulse'])"
      ],
      "metadata": {
        "id": "7FjKW5U-n8AF"
      },
      "execution_count": null,
      "outputs": []
    },
    {
      "cell_type": "code",
      "source": [
        "data = pd.read_json('/content/drive/MyDrive/Pandas/Json/data.json')\n",
        "\n",
        "data.loc[3, \"Calories\"] = 380\n",
        "print(data)"
      ],
      "metadata": {
        "id": "ebrW2o0VuapR"
      },
      "execution_count": null,
      "outputs": []
    },
    {
      "cell_type": "code",
      "source": [
        "data = pd.read_json('/content/drive/MyDrive/Pandas/Json/data.json')\n",
        "\n",
        "\n",
        "print(data.at[4, \"Pulse\"])"
      ],
      "metadata": {
        "id": "Hhb21EaDNhK9"
      },
      "execution_count": null,
      "outputs": []
    },
    {
      "cell_type": "code",
      "source": [
        "data = pd.read_json('/content/drive/MyDrive/Pandas/Json/data.json')\n",
        "\n",
        "\n",
        "print(data.iat[0, 1])"
      ],
      "metadata": {
        "id": "hbZwbTF6Oh-y"
      },
      "execution_count": null,
      "outputs": []
    },
    {
      "cell_type": "code",
      "source": [
        "import pandas as pd\n",
        "\n",
        "anscombe = pd.read_json('/content/sample_data/anscombe.json')\n",
        "\n",
        "print(anscombe.head(10))"
      ],
      "metadata": {
        "id": "_k3ZswL_f_sU"
      },
      "execution_count": null,
      "outputs": []
    },
    {
      "cell_type": "code",
      "source": [
        "import pandas as pd\n",
        "\n",
        "anscombe = pd.read_json('/content/sample_data/anscombe.json')\n",
        "\n",
        "print(anscombe.tail(10))"
      ],
      "metadata": {
        "id": "GIps0iXLgCV4"
      },
      "execution_count": null,
      "outputs": []
    },
    {
      "cell_type": "markdown",
      "source": [
        "#Iterating Data"
      ],
      "metadata": {
        "id": "7_SYc9qceJSI"
      }
    },
    {
      "cell_type": "code",
      "source": [
        "import pandas as pd\n",
        "\n",
        "data = pd.read_json('/content/drive/MyDrive/Pandas/Json/data.json')\n",
        "\n",
        "print(data)"
      ],
      "metadata": {
        "id": "XaBUChuvfChO"
      },
      "execution_count": null,
      "outputs": []
    },
    {
      "cell_type": "code",
      "source": [
        "import pandas as pd\n",
        "\n",
        "data = pd.read_json('/content/drive/MyDrive/Pandas/Json/data.json')\n",
        "\n",
        "print(data.loc[data[\"Calories\"] > 400])"
      ],
      "metadata": {
        "id": "JPzoOdiHhhsa"
      },
      "execution_count": null,
      "outputs": []
    },
    {
      "cell_type": "code",
      "source": [
        "import pandas as pd\n",
        "\n",
        "data = pd.read_json('/content/drive/MyDrive/Pandas/Json/data.json')\n",
        "\n",
        "print(data.loc[data[\"Calories\"] > 400, [\"Maxpulse\", \"Calories\"]])"
      ],
      "metadata": {
        "id": "Cn-iiA2KjuaV"
      },
      "execution_count": null,
      "outputs": []
    },
    {
      "cell_type": "code",
      "source": [
        "import pandas as pd\n",
        "\n",
        "data = pd.read_json('/content/drive/MyDrive/Pandas/Json/data.json')\n",
        "\n",
        "print(data.loc[(data[\"Calories\"] > 400) & (data[\"Maxpulse\"] > 130), [\"Maxpulse\", \"Calories\"]])"
      ],
      "metadata": {
        "id": "bn_XOm0gkNzH"
      },
      "execution_count": null,
      "outputs": []
    },
    {
      "cell_type": "code",
      "source": [
        "customers = pd.read_csv('/content/drive/MyDrive/Pandas/CSV/customers.csv')\n",
        "\n",
        "print(customers['Company'].str.contains(\"Rasmussen Group\", case = False))"
      ],
      "metadata": {
        "id": "OmNG1CLBmOFm"
      },
      "execution_count": null,
      "outputs": []
    },
    {
      "cell_type": "code",
      "source": [
        "customers = pd.read_csv('/content/drive/MyDrive/Pandas/CSV/customers.csv')\n",
        "\n",
        "print(customers['Company'].isin([\"Rasmussen Group\"]))"
      ],
      "metadata": {
        "id": "WP0qQLqXDlYj"
      },
      "execution_count": null,
      "outputs": []
    },
    {
      "cell_type": "code",
      "source": [
        "import pandas as pd\n",
        "\n",
        "data = pd.read_json('/content/drive/MyDrive/Pandas/Json/data.json')\n",
        "\n",
        "for index, row in data.iterrows():\n",
        "  print(index)\n",
        "  print(row)\n",
        "  print('\\n\\n\\n\\n')"
      ],
      "metadata": {
        "id": "IDj1SVGsE377"
      },
      "execution_count": null,
      "outputs": []
    },
    {
      "cell_type": "markdown",
      "source": [
        "#Filtering Data"
      ],
      "metadata": {
        "id": "TlAYruhDEYCE"
      }
    },
    {
      "cell_type": "code",
      "source": [
        "customers = pd.read_csv('/content/drive/MyDrive/Pandas/CSV/customers.csv')\n",
        "\n",
        "print(customers.query(\"Company == 'Rasmussen Group'\").to_string())"
      ],
      "metadata": {
        "id": "ZfjOYCw2EaYS"
      },
      "execution_count": null,
      "outputs": []
    },
    {
      "cell_type": "code",
      "source": [
        "exercise = pd.read_csv('/content/drive/MyDrive/Pandas/CSV/exercise.csv')\n",
        "\n",
        "print(exercise.query(\"Pulse >= 100 and Calories >= 300\").to_string())"
      ],
      "metadata": {
        "id": "0H751e_UeOs-"
      },
      "execution_count": null,
      "outputs": []
    },
    {
      "cell_type": "markdown",
      "source": [
        "#Add and Reemove Columns"
      ],
      "metadata": {
        "id": "kWoDoazWF7Vj"
      }
    },
    {
      "cell_type": "code",
      "source": [
        "exercise = pd.read_csv('/content/drive/MyDrive/Pandas/CSV/exercise.csv')\n",
        "exercise[\"Calories\"] = 400\n",
        "\n",
        "print(exercise.to_string())"
      ],
      "metadata": {
        "id": "vIVRx52eF65q"
      },
      "execution_count": null,
      "outputs": []
    },
    {
      "cell_type": "code",
      "source": [
        "coffee = pd.read_csv('/content/drive/MyDrive/Pandas/CSV/coffee.csv')\n",
        "new_coffee = coffee.copy()\n",
        "print(coffee.to_string())"
      ],
      "metadata": {
        "id": "VeyLDB9hIeBI"
      },
      "execution_count": null,
      "outputs": []
    },
    {
      "cell_type": "code",
      "source": [
        "coffee['Price'] = 4.99\n",
        "\n",
        "print(coffee.to_string())"
      ],
      "metadata": {
        "id": "B8eskKAlIp3T"
      },
      "execution_count": null,
      "outputs": []
    },
    {
      "cell_type": "code",
      "source": [
        "import numpy as np\n",
        "\n",
        "coffee['New Price'] = np.where(coffee['Coffee Type'] == 'Espresso', 3.99, 5.99)\n",
        "print(coffee.to_string())"
      ],
      "metadata": {
        "id": "kmwP3Y5gJI-r"
      },
      "execution_count": null,
      "outputs": []
    },
    {
      "cell_type": "code",
      "source": [
        "coffee.drop(0)"
      ],
      "metadata": {
        "id": "Bow08B32KBf6"
      },
      "execution_count": null,
      "outputs": []
    },
    {
      "cell_type": "code",
      "source": [
        "coffee.drop(columns = ['Price'], inplace = True)\n",
        "print(coffee)"
      ],
      "metadata": {
        "id": "OUwOXa25Kcwt"
      },
      "execution_count": null,
      "outputs": []
    },
    {
      "cell_type": "code",
      "source": [
        "coffee[\"Revinue\"] = coffee['Units Sold'] * coffee['New Price']\n",
        "\n",
        "print(coffee)"
      ],
      "metadata": {
        "id": "8dYsqa-KPZFM"
      },
      "execution_count": null,
      "outputs": []
    },
    {
      "cell_type": "code",
      "source": [
        "new_coffee = new_coffee.rename(columns = {'New Price': 'Price'})\n",
        "\n",
        "print(new_coffee)"
      ],
      "metadata": {
        "id": "6DT1m4wRWQlV"
      },
      "execution_count": null,
      "outputs": []
    },
    {
      "cell_type": "code",
      "source": [
        "coffee = coffee.rename(columns = {'New Price': 'Price'})\n",
        "\n",
        "print(coffee)"
      ],
      "metadata": {
        "id": "4WGo6zqGZxrP"
      },
      "execution_count": null,
      "outputs": []
    },
    {
      "cell_type": "code",
      "source": [
        "print(coffee)"
      ],
      "metadata": {
        "id": "XyG-lygrZPq9"
      },
      "execution_count": null,
      "outputs": []
    },
    {
      "cell_type": "markdown",
      "source": [
        "#Lambda Function"
      ],
      "metadata": {
        "id": "iVDFcu8TURaY"
      }
    },
    {
      "cell_type": "code",
      "source": [
        "s = pd.Series([1, 2, 3])\n",
        "s.apply(lambda x: x * 2)"
      ],
      "metadata": {
        "id": "C1Osaj9YWTur"
      },
      "execution_count": null,
      "outputs": []
    },
    {
      "cell_type": "code",
      "source": [
        "s = pd.Series(['apple', 'banana', 'cherry'])\n",
        "s.map(lambda x: x.upper())"
      ],
      "metadata": {
        "id": "N8eBhbcMWwCq"
      },
      "execution_count": null,
      "outputs": []
    },
    {
      "cell_type": "code",
      "source": [
        "cars = pd.read_csv('/content/drive/MyDrive/Pandas/CSV/cars.csv')\n",
        "\n",
        "print(cars.to_string())"
      ],
      "metadata": {
        "id": "OEHLxru_UZ_M"
      },
      "execution_count": null,
      "outputs": []
    },
    {
      "cell_type": "code",
      "source": [
        "cars['Car Size'] = cars['Weight'].apply(lambda x : 'Small' if x <= 800 else ('Medium' if x <= 1500 else 'Large'))\n",
        "\n",
        "print(cars)"
      ],
      "metadata": {
        "id": "bDLiZqvFUtCh"
      },
      "execution_count": null,
      "outputs": []
    },
    {
      "cell_type": "markdown",
      "source": [
        "#Merging or Concating Data"
      ],
      "metadata": {
        "id": "fDMV55KGXfEr"
      }
    },
    {
      "cell_type": "code",
      "source": [
        "people = pd.read_csv('/content/drive/MyDrive/Pandas/CSV/people.csv')\n",
        "exercise = pd.read_csv('/content/drive/MyDrive/Pandas/CSV/exercise.csv')"
      ],
      "metadata": {
        "id": "I5MuGywwXkaz"
      },
      "execution_count": null,
      "outputs": []
    },
    {
      "cell_type": "code",
      "source": [
        "exercise['Sex'] = exercise['Maxpulse'].apply(lambda x : 'Male' if x <= 135 else('Female') )\n",
        "\n",
        "print(exercise)"
      ],
      "metadata": {
        "id": "b9vvJp_vaxPw"
      },
      "execution_count": null,
      "outputs": []
    },
    {
      "cell_type": "code",
      "source": [
        "pd.merge(people, exercise, left_on = 'Sex', right_on= 'Sex', how = 'inner')"
      ],
      "metadata": {
        "id": "rymdr6kpab9l"
      },
      "execution_count": null,
      "outputs": []
    },
    {
      "cell_type": "markdown",
      "source": [
        "#Hanling Null Values"
      ],
      "metadata": {
        "id": "gykMJJVftAaP"
      }
    },
    {
      "cell_type": "code",
      "source": [
        "import pandas as pd\n",
        "\n",
        "data = pd.read_json('/content/drive/MyDrive/Pandas/Json/data.json')\n",
        "print(data.to_string())"
      ],
      "metadata": {
        "id": "Ogywn6my1pWo"
      },
      "execution_count": null,
      "outputs": []
    },
    {
      "cell_type": "code",
      "source": [
        "import numpy as np\n",
        "\n",
        "calories = pd.read_json('/content/drive/MyDrive/Pandas/Json/data.json')\n",
        "calories.loc[[0, 1], 'Pulse'] = np.nan\n",
        "\n",
        "print(calories)"
      ],
      "metadata": {
        "id": "EWhvVLozc8XP"
      },
      "execution_count": null,
      "outputs": []
    },
    {
      "cell_type": "code",
      "source": [
        "calories = calories.fillna(calories['Pulse'].mean())\n",
        "\n",
        "print(calories)"
      ],
      "metadata": {
        "id": "ONIHzKRPdhRI"
      },
      "execution_count": null,
      "outputs": []
    },
    {
      "cell_type": "markdown",
      "source": [
        "#Aggregating Data"
      ],
      "metadata": {
        "id": "dN-ZucD7f-wa"
      }
    },
    {
      "cell_type": "code",
      "source": [
        "titanic = pd.read_csv('/content/drive/MyDrive/Pandas/CSV/titanic.csv')\n",
        "\n",
        "print(titanic.to_string())"
      ],
      "metadata": {
        "id": "fRVa4Q8ZgGe0"
      },
      "execution_count": null,
      "outputs": []
    },
    {
      "cell_type": "code",
      "source": [
        "print(titanic['Fare'].value_counts().head())"
      ],
      "metadata": {
        "id": "i7JdSuh1go9u"
      },
      "execution_count": null,
      "outputs": []
    },
    {
      "cell_type": "code",
      "source": [
        "print(titanic['Ticket'].value_counts().head())"
      ],
      "metadata": {
        "id": "EVnDpdCZhP7f"
      },
      "execution_count": null,
      "outputs": []
    },
    {
      "cell_type": "code",
      "source": [
        "print(titanic['Fare'].max())"
      ],
      "metadata": {
        "id": "9oPXXKuIhfOd"
      },
      "execution_count": null,
      "outputs": []
    },
    {
      "cell_type": "code",
      "source": [
        "print(titanic['Ticket'].max())"
      ],
      "metadata": {
        "id": "pVAnsnhJhzjf"
      },
      "execution_count": null,
      "outputs": []
    },
    {
      "cell_type": "code",
      "source": [
        "print(titanic['Fare'].sum())"
      ],
      "metadata": {
        "id": "X-fYcdaWh5Gy"
      },
      "execution_count": null,
      "outputs": []
    },
    {
      "cell_type": "code",
      "source": [
        "print(titanic['Fare'].mean())"
      ],
      "metadata": {
        "id": "60gBt36YiBHC"
      },
      "execution_count": null,
      "outputs": []
    },
    {
      "cell_type": "code",
      "source": [
        "print(titanic['Fare'].median())"
      ],
      "metadata": {
        "id": "0-0oeIAqiMvB"
      },
      "execution_count": null,
      "outputs": []
    },
    {
      "cell_type": "code",
      "source": [
        "print(titanic['Fare'].mode())"
      ],
      "metadata": {
        "id": "97HVAQRaiPg2"
      },
      "execution_count": null,
      "outputs": []
    },
    {
      "cell_type": "code",
      "source": [
        "print(titanic['Fare'].nunique())"
      ],
      "metadata": {
        "id": "IYHbwPRV4Odc"
      },
      "execution_count": null,
      "outputs": []
    },
    {
      "cell_type": "markdown",
      "source": [
        "#Group By"
      ],
      "metadata": {
        "id": "JrOQT05k4aff"
      }
    },
    {
      "cell_type": "code",
      "source": [
        "coffee = pd.read_csv('/content/drive/MyDrive/Pandas/CSV/coffee.csv')\n",
        "\n",
        "print(coffee)"
      ],
      "metadata": {
        "id": "QnSPSgIS4YEP"
      },
      "execution_count": null,
      "outputs": []
    },
    {
      "cell_type": "code",
      "source": [
        "coffee.groupby(['Coffee Type']) ['Units Sold'].sum()"
      ],
      "metadata": {
        "id": "ug50GtmZ41l4"
      },
      "execution_count": null,
      "outputs": []
    },
    {
      "cell_type": "code",
      "source": [
        "coffee.groupby(['Coffee Type']) ['Units Sold'].mean()"
      ],
      "metadata": {
        "id": "O81CodmP5Udg"
      },
      "execution_count": null,
      "outputs": []
    },
    {
      "cell_type": "code",
      "source": [
        "coffee['Price'] = 4.99\n",
        "\n",
        "coffee.loc[coffee['Coffee Type'] == 'Espresso', 'Price'] = 3.99"
      ],
      "metadata": {
        "id": "xyRMod_J56O0"
      },
      "execution_count": null,
      "outputs": []
    },
    {
      "cell_type": "code",
      "source": [
        "print(coffee)"
      ],
      "metadata": {
        "id": "zy6Da8px7qWW"
      },
      "execution_count": null,
      "outputs": []
    },
    {
      "cell_type": "code",
      "source": [
        "coffee.groupby(['Coffee Type']).agg({'Units Sold' : 'sum', 'Price' : 'mean'})"
      ],
      "metadata": {
        "id": "ENvxIwVw5iRT"
      },
      "execution_count": null,
      "outputs": []
    },
    {
      "cell_type": "code",
      "source": [
        "coffee.groupby(['Coffee Type', 'Day']).agg({'Units Sold' : 'sum', 'Price' : 'mean'})"
      ],
      "metadata": {
        "id": "tOEfwfyO6QWu"
      },
      "execution_count": null,
      "outputs": []
    },
    {
      "cell_type": "markdown",
      "source": [
        "#Pivot"
      ],
      "metadata": {
        "id": "vW_0QXj3-CAW"
      }
    },
    {
      "cell_type": "code",
      "source": [
        "coffee['Revinue'] = coffee['Units Sold'] * coffee['Price']\n",
        "\n",
        "print(coffee)"
      ],
      "metadata": {
        "id": "Yttmm7MX9R1K"
      },
      "execution_count": null,
      "outputs": []
    },
    {
      "cell_type": "code",
      "source": [
        "pivot = coffee.pivot(columns = 'Coffee Type', index = 'Day', values = 'Revinue')\n",
        "\n",
        "print(pivot)"
      ],
      "metadata": {
        "id": "kAsF9JjP-FD-"
      },
      "execution_count": null,
      "outputs": []
    },
    {
      "cell_type": "code",
      "source": [
        "print(pivot.loc['Wednesday', 'Latte'])"
      ],
      "metadata": {
        "id": "dP7T1ld5G3ff"
      },
      "execution_count": null,
      "outputs": []
    },
    {
      "cell_type": "markdown",
      "source": [
        "#Shifting"
      ],
      "metadata": {
        "id": "XxuFg551ICIF"
      }
    },
    {
      "cell_type": "code",
      "source": [
        "coffee['Yesterday Revinue'] = coffee['Revinue'].shift(2)\n",
        "\n",
        "print(coffee)"
      ],
      "metadata": {
        "id": "UMfKdPb9HtwW"
      },
      "execution_count": null,
      "outputs": []
    },
    {
      "cell_type": "code",
      "source": [
        "coffee['Yesterday Revinue'] = coffee['Revinue'].shift(-2)\n",
        "\n",
        "print(coffee)"
      ],
      "metadata": {
        "id": "ORgs8bVkIci_"
      },
      "execution_count": null,
      "outputs": []
    },
    {
      "cell_type": "markdown",
      "source": [
        "#Rank"
      ],
      "metadata": {
        "id": "jSqO0UJPJjk5"
      }
    },
    {
      "cell_type": "code",
      "source": [
        "new_coffee = coffee.copy()\n",
        "new_coffee['Day Rank'] = coffee['Day'].rank()\n",
        "\n",
        "print(new_coffee['Day Rank'].sort_values(ascending = False))"
      ],
      "metadata": {
        "id": "FZEAVuZdInE8"
      },
      "execution_count": null,
      "outputs": []
    },
    {
      "cell_type": "code",
      "source": [
        "coffee[\"Cumilative Revinue\"] = coffee['Revinue'].cumsum()\n",
        "\n",
        "print(coffee['Cumilative Revinue'])"
      ],
      "metadata": {
        "id": "Rzulya3rJrKW"
      },
      "execution_count": null,
      "outputs": []
    },
    {
      "cell_type": "code",
      "source": [
        "print(pivot.sum())"
      ],
      "metadata": {
        "id": "iNwzR-GlHKnN"
      },
      "execution_count": null,
      "outputs": []
    },
    {
      "cell_type": "code",
      "source": [
        "print(pivot.sum(axis = 1))"
      ],
      "metadata": {
        "id": "yifh_udRHRFb"
      },
      "execution_count": null,
      "outputs": []
    },
    {
      "cell_type": "markdown",
      "source": [
        "#Correlation"
      ],
      "metadata": {
        "id": "vxR1PYz44Dq9"
      }
    },
    {
      "cell_type": "code",
      "source": [
        "customers = pd.read_csv('/content/drive/MyDrive/Pandas/CSV/customers.csv')\n",
        "numeric_data = customers.select_dtypes(include='number')\n",
        "\n",
        "print(numeric_data.corr())"
      ],
      "metadata": {
        "id": "h68iQLED5Dhs"
      },
      "execution_count": null,
      "outputs": []
    },
    {
      "cell_type": "code",
      "source": [
        "import pandas as pd\n",
        "\n",
        "sample = pd.read_json('/content/drive/MyDrive/Pandas/Json/sample.json')\n",
        "numeric_data = sample.select_dtypes(include='number')\n",
        "\n",
        "print(numeric_data.corr())"
      ],
      "metadata": {
        "id": "74P_6gVS4ojB"
      },
      "execution_count": null,
      "outputs": []
    },
    {
      "cell_type": "markdown",
      "source": [
        "# Correcting the Wrong Formet"
      ],
      "metadata": {
        "id": "Ytz2eUn5d577"
      }
    },
    {
      "cell_type": "code",
      "source": [
        "import pandas as pd\n",
        "\n",
        "people = pd.read_csv('/content/drive/MyDrive/Pandas/CSV/people.csv')\n",
        "\n",
        "print(people.to_string())"
      ],
      "metadata": {
        "id": "2RoZYciff6Si"
      },
      "execution_count": null,
      "outputs": []
    },
    {
      "cell_type": "code",
      "source": [
        "import pandas as pd\n",
        "\n",
        "people = pd.read_csv('/content/drive/MyDrive/Pandas/CSV/people.csv')\n",
        "people['Date of birth'] = pd.to_datetime(people['Date of birth'], format='mixed')\n",
        "\n",
        "print(people.to_string())"
      ],
      "metadata": {
        "id": "DnmkqWVKd9NN"
      },
      "execution_count": null,
      "outputs": []
    },
    {
      "cell_type": "code",
      "source": [
        "import pandas as pd\n",
        "\n",
        "people = pd.read_csv('/content/drive/MyDrive/Pandas/CSV/people.csv')\n",
        "people.dropna(subset = ['Date of birth'], inplace = True)\n",
        "\n",
        "print(people.to_string())"
      ],
      "metadata": {
        "id": "qk-fb7X3g9Lb"
      },
      "execution_count": null,
      "outputs": []
    },
    {
      "cell_type": "code",
      "source": [
        "import pandas as pd\n",
        "\n",
        "people = pd.read_csv('/content/drive/MyDrive/Pandas/CSV/people.csv')\n",
        "\n",
        "people.loc[3, 'Date of birth'] = \"10/26/2002\"\n",
        "print(people.to_string())"
      ],
      "metadata": {
        "id": "KiLbXGnJhtWA"
      },
      "execution_count": null,
      "outputs": []
    },
    {
      "cell_type": "code",
      "source": [
        "import pandas as pd\n",
        "\n",
        "exercise_data = pd.read_csv(\"/content/drive/MyDrive/Pandas/CSV/exercise_data.csv\")\n",
        "\n",
        "print(exercise_data)"
      ],
      "metadata": {
        "id": "8-E9z_jrZEFm"
      },
      "execution_count": null,
      "outputs": []
    },
    {
      "cell_type": "code",
      "source": [
        "import pandas as pd\n",
        "\n",
        "exercise_data = pd.read_csv(\"/content/drive/MyDrive/Pandas/CSV/exercise_data.csv\")\n",
        "\n",
        "for i in exercise_data.index:\n",
        "  if exercise_data.loc[i, 'Duration'] > 120:\n",
        "    exercise_data.loc[i, 'Duration'] = 120\n",
        "\n",
        "print(exercise_data.to_string())"
      ],
      "metadata": {
        "id": "VHSt3bXCZg2I"
      },
      "execution_count": null,
      "outputs": []
    },
    {
      "cell_type": "markdown",
      "source": [
        "#Removing Duplicate Values"
      ],
      "metadata": {
        "id": "p5l5TuMtbH_q"
      }
    },
    {
      "cell_type": "code",
      "source": [
        "import pandas as pd\n",
        "\n",
        "exercise_data = pd.read_csv(\"/content/drive/MyDrive/Pandas/CSV/exercise_data.csv\")\n",
        "\n",
        "print(exercise_data.duplicated())"
      ],
      "metadata": {
        "id": "3F3L1rhwbKRt"
      },
      "execution_count": null,
      "outputs": []
    },
    {
      "cell_type": "code",
      "source": [
        "import pandas as pd\n",
        "\n",
        "exercise = pd.read_csv('/content/drive/MyDrive/Pandas/CSV/exercise.csv')\n",
        "\n",
        "print(exercise.duplicated())"
      ],
      "metadata": {
        "id": "Ae7su7Iykdsj"
      },
      "execution_count": null,
      "outputs": []
    },
    {
      "cell_type": "code",
      "source": [
        "import pandas as pd\n",
        "\n",
        "exercise = pd.read_csv('/content/drive/MyDrive/Pandas/CSV/exercise.csv')\n",
        "exercise.drop_duplicates(inplace = True)\n",
        "\n",
        "print(exercise.duplicated())"
      ],
      "metadata": {
        "id": "X-nkIDoKkg8I"
      },
      "execution_count": null,
      "outputs": []
    },
    {
      "cell_type": "markdown",
      "source": [
        "#Ploting"
      ],
      "metadata": {
        "id": "RhQRrel3fPPG"
      }
    },
    {
      "cell_type": "code",
      "source": [
        "import pandas as pd\n",
        "import matplotlib.pyplot as plt\n",
        "\n",
        "titanic = pd.read_csv('/content/drive/MyDrive/Pandas/CSV/titanic.csv')\n",
        "\n",
        "titanic.plot()\n",
        "plt.show()"
      ],
      "metadata": {
        "id": "qqcMrmiOfREm"
      },
      "execution_count": null,
      "outputs": []
    },
    {
      "cell_type": "code",
      "source": [
        "import pandas as pd\n",
        "import matplotlib.pyplot as plt\n",
        "\n",
        "titanic = pd.read_csv('/content/drive/MyDrive/Pandas/CSV/titanic.csv')\n",
        "print(titanic.columns)\n",
        "titanic.plot(kind = 'scatter', x = 'Pclass', y = 'PassengerId')\n",
        "plt.show()"
      ],
      "metadata": {
        "id": "cZcY85ypgXsp"
      },
      "execution_count": null,
      "outputs": []
    },
    {
      "cell_type": "code",
      "source": [
        "import pandas as pd\n",
        "import matplotlib.pyplot as plt\n",
        "import sys\n",
        "\n",
        "titanic = pd.read_csv('/content/drive/MyDrive/Pandas/CSV/titanic.csv')\n",
        "print(titanic.columns)\n",
        "titanic['Survived'].plot(kind = 'hist')\n",
        "plt.show()\n"
      ],
      "metadata": {
        "id": "YiI1s45Sh3mZ"
      },
      "execution_count": null,
      "outputs": []
    }
  ]
}